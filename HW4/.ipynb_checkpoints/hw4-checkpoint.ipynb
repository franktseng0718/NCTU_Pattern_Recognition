{
 "cells": [
  {
   "cell_type": "code",
   "execution_count": 202,
   "metadata": {},
   "outputs": [],
   "source": [
    "import numpy as np\n",
    "import pandas as pd\n",
    "from sklearn.svm import SVC, SVR\n",
    "from sklearn.metrics import accuracy_score"
   ]
  },
  {
   "cell_type": "markdown",
   "metadata": {},
   "source": [
    "## Load data"
   ]
  },
  {
   "cell_type": "code",
   "execution_count": 203,
   "metadata": {},
   "outputs": [],
   "source": [
    "x_train = np.load(\"x_train.npy\")\n",
    "y_train = np.load(\"y_train.npy\")\n",
    "x_test = np.load(\"x_test.npy\")\n",
    "y_test = np.load(\"y_test.npy\")"
   ]
  },
  {
   "cell_type": "code",
   "execution_count": 204,
   "metadata": {},
   "outputs": [
    {
     "name": "stdout",
     "output_type": "stream",
     "text": [
      "(550, 300)\n",
      "[[-1.293864    0.26688415  0.17891383 ... -1.1692238  -0.10237546\n",
      "   0.58351785]\n",
      " [-0.5219885   1.2065896   1.1948192  ... -1.7902911   0.94060045\n",
      "  -0.1277058 ]\n",
      " [ 0.65403384  1.0049634  -0.6513554  ... -1.773319    0.4276662\n",
      "   2.5392776 ]\n",
      " ...\n",
      " [ 0.6640236   0.3192     -0.28298047 ...  0.585824    0.76983005\n",
      "   0.84620374]\n",
      " [ 0.5247948   0.8323696   1.855217   ...  0.7948658  -1.2047578\n",
      "   1.8342754 ]\n",
      " [ 0.03478426  1.8195775   0.68849623 ...  1.4219252  -1.4674224\n",
      "  -0.18993278]]\n"
     ]
    }
   ],
   "source": [
    "# 550 data with 300 features\n",
    "print(x_train.shape)\n",
    "print(x_train)"
   ]
  },
  {
   "cell_type": "code",
   "execution_count": 205,
   "metadata": {},
   "outputs": [
    {
     "name": "stdout",
     "output_type": "stream",
     "text": [
      "[0 1]\n"
     ]
    }
   ],
   "source": [
    "# It's a binary classification problem \n",
    "print(np.unique(y_train))"
   ]
  },
  {
   "cell_type": "markdown",
   "metadata": {},
   "source": [
    "## Question 1\n",
    "K-fold data partition: Implement the K-fold cross-validation function. Your function should take K as an argument and return a list of lists (len(list) should equal to K), which contains K elements. Each element is a list contains two parts, the first part contains the index of all training folds, e.g. Fold 2 to Fold 5 in split 1. The second part contains the index of validation fold, e.g. Fold 1 in  split 1"
   ]
  },
  {
   "cell_type": "code",
   "execution_count": null,
   "metadata": {},
   "outputs": [],
   "source": []
  },
  {
   "cell_type": "code",
   "execution_count": 206,
   "metadata": {},
   "outputs": [],
   "source": [
    "def cross_validation(x_train, y_train, k=5):\n",
    "    num_sample = len(y_train)\n",
    "    total = [i for i in range(num_sample)]\n",
    "    np.random.shuffle(total)\n",
    "    count = 0\n",
    "    k_fold = []\n",
    "    for i in range(k):\n",
    "        if i < num_sample % k:\n",
    "            num = num_sample//k + 1\n",
    "        else:\n",
    "            num = num_sample//k\n",
    "        test_idx = total[count:count+num]\n",
    "        test_idx.sort()\n",
    "        test_idx = np.array(test_idx)\n",
    "        train_idx = [i for i in range(num_sample) if i not in test_idx]\n",
    "        train_idx.sort()\n",
    "        train_idx = np.array(train_idx)\n",
    "        k_fold.append([train_idx, test_idx]) #k_fold必須是nparray才有shape\n",
    "        count += num\n",
    "    k_fold = np.array(k_fold)\n",
    "    return k_fold"
   ]
  },
  {
   "cell_type": "code",
   "execution_count": 207,
   "metadata": {},
   "outputs": [],
   "source": [
    "kfold_data = cross_validation(x_train, y_train, k=10)\n",
    "assert len(kfold_data) == 10 # should contain 10 fold of data\n",
    "assert len(kfold_data[0]) == 2 # each element should contain train fold and validation fold\n",
    "assert kfold_data[0][1].shape[0] == 55 # The number of data in each validation fold should equal to training data divieded by K"
   ]
  },
  {
   "cell_type": "markdown",
   "metadata": {},
   "source": [
    "## example"
   ]
  },
  {
   "cell_type": "code",
   "execution_count": 208,
   "metadata": {},
   "outputs": [
    {
     "name": "stdout",
     "output_type": "stream",
     "text": [
      "Split: 1, Training index: [ 0  1  2  3  4  5  6  7  9 11 12 13 14 15 16 17], Validation index: [ 8 10 18 19]\n",
      "Split: 2, Training index: [ 0  2  3  4  5  6  8 10 12 13 14 15 16 17 18 19], Validation index: [ 1  7  9 11]\n",
      "Split: 3, Training index: [ 0  1  2  4  5  6  7  8  9 10 11 13 15 17 18 19], Validation index: [ 3 12 14 16]\n",
      "Split: 4, Training index: [ 1  2  3  5  6  7  8  9 10 11 12 14 16 17 18 19], Validation index: [ 0  4 13 15]\n",
      "Split: 5, Training index: [ 0  1  3  4  7  8  9 10 11 12 13 14 15 16 18 19], Validation index: [ 2  5  6 17]\n"
     ]
    }
   ],
   "source": [
    "from sklearn.model_selection import KFold\n",
    "\n",
    "X = np.arange(20)\n",
    "kf = KFold(n_splits=5, shuffle=True)\n",
    "kfold_data= []\n",
    "for i, (train_index, val_index) in enumerate(kf.split(X)):\n",
    "    print(\"Split: %s, Training index: %s, Validation index: %s\" % (i+1, train_index, val_index))\n",
    "    kfold_data.append([train_index, val_index])"
   ]
  },
  {
   "cell_type": "code",
   "execution_count": 209,
   "metadata": {},
   "outputs": [
    {
     "name": "stdout",
     "output_type": "stream",
     "text": [
      "Split: 1, Training index: [ 0  1  2  3  4  6  7  8 10 11 13 14 15 16 17 18], Validation index: [ 5  9 12 19]\n",
      "Split: 2, Training index: [ 1  3  4  5  6  7  8  9 11 12 13 14 15 16 18 19], Validation index: [ 0  2 10 17]\n",
      "Split: 3, Training index: [ 0  1  2  5  7  9 10 11 12 13 14 15 16 17 18 19], Validation index: [3 4 6 8]\n",
      "Split: 4, Training index: [ 0  1  2  3  4  5  6  8  9 10 12 13 14 16 17 19], Validation index: [ 7 11 15 18]\n",
      "Split: 5, Training index: [ 0  2  3  4  5  6  7  8  9 10 11 12 15 17 18 19], Validation index: [ 1 13 14 16]\n"
     ]
    }
   ],
   "source": [
    "X = np.arange(20)  #寫一個測試自己cross_validation的函數\n",
    "kf = cross_validation(X, X, 5)\n",
    "kfold_data = []\n",
    "for i in range(5):\n",
    "    print(\"Split: %s, Training index: %s, Validation index: %s\" % (i+1, kf[i][0], kf[i][1]))\n",
    "kfold_data = kf.copy()"
   ]
  },
  {
   "cell_type": "code",
   "execution_count": 210,
   "metadata": {},
   "outputs": [],
   "source": [
    "assert len(kfold_data) == 5 # should contain 5 fold of data\n",
    "assert len(kfold_data[0]) == 2 # each element should contains index of training fold and validation fold\n",
    "assert kfold_data[0][1].shape[0] == 4 # The number of data in each validation fold should equal to training data divieded by K"
   ]
  },
  {
   "cell_type": "markdown",
   "metadata": {},
   "source": [
    "## Question 2\n",
    "Using sklearn.svm.SVC to train a classifier on the provided train set and conduct the grid search of “C”, “kernel” and “gamma” to find the best parameters by cross-validation."
   ]
  },
  {
   "cell_type": "code",
   "execution_count": 211,
   "metadata": {},
   "outputs": [],
   "source": [
    "clf = SVC(C=1.0, kernel='rbf', gamma=0.01)\n",
    "clf.fit(x_train, y_train)\n",
    "clf.score(x_test, y_test)\n",
    "C = [10 ** i for i in range(-2, 5)] #由下面範例的表得出\n",
    "G = [10 ** i for i in range(-4, 4)]"
   ]
  },
  {
   "cell_type": "code",
   "execution_count": 212,
   "metadata": {},
   "outputs": [],
   "source": [
    "## your code\n",
    "def grid_search(x_train, y_train, cla, k):\n",
    "    best_score = 0\n",
    "    score_table = np.zeros((7, 8)) #下面畫表要用\n",
    "    k_fold = cross_validation(x_train, y_train, k)\n",
    "    new_x_train = []\n",
    "    new_y_train = []\n",
    "    new_x_test = []\n",
    "    new_y_test = []\n",
    "    for i in range(k):\n",
    "        new_x_train.append([x_train[j] for j in k_fold[i][0]])\n",
    "        new_y_train.append([y_train[j] for j in k_fold[i][0]])\n",
    "        new_x_test.append([x_train[j] for j in k_fold[i][1]])\n",
    "        new_y_test.append([y_train[j] for j in k_fold[i][1]])\n",
    "    for i in range(len(C)):\n",
    "        for j in range(len(G)):\n",
    "            if cla:\n",
    "                clf = SVC(C=C[i], kernel='rbf', gamma=G[j])\n",
    "            else:\n",
    "                clf = SVR(C=C[i], kernel='rbf', gamma=G[j])  #為了之後的regression\n",
    "            total_score=[]\n",
    "            for t in range(k):\n",
    "                clf.fit(new_x_train[t], new_y_train[t])\n",
    "                total_score.append(clf.score(new_x_test[t], new_y_test[t]))\n",
    "            score = np.mean(total_score)\n",
    "            \n",
    "            if score > best_score:\n",
    "                best_score = score\n",
    "                best_parameters = {\"C\": C[i], \"gamma\": G[j]}\n",
    "            score_table[i][j] = score\n",
    "    return best_parameters, score_table\n",
    "    \n",
    "    \n"
   ]
  },
  {
   "cell_type": "code",
   "execution_count": 213,
   "metadata": {},
   "outputs": [
    {
     "name": "stdout",
     "output_type": "stream",
     "text": [
      "{'C': 10, 'gamma': 0.001}\n"
     ]
    }
   ],
   "source": [
    "best_parameters, score_table = grid_search(x_train, y_train, True, 5)\n",
    "print(best_parameters)"
   ]
  },
  {
   "cell_type": "markdown",
   "metadata": {},
   "source": [
    "## Question 3\n",
    "Plot the grid search results of your SVM. The x, y represents the hyperparameters of “gamma” and “C”, respectively. And the color represents the average score of validation folds\n",
    "You reults should be look like the reference image ![image](https://miro.medium.com/max/1296/1*wGWTup9r4cVytB5MOnsjdQ.png) "
   ]
  },
  {
   "cell_type": "code",
   "execution_count": 214,
   "metadata": {},
   "outputs": [
    {
     "data": {
      "image/png": "[encoded data removed]",
      "text/plain": [
       "<Figure size 792x504 with 2 Axes>"
      ]
     },
     "metadata": {
      "needs_background": "light"
     },
     "output_type": "display_data"
    }
   ],
   "source": [
    "import seaborn as sn\n",
    "import matplotlib.pyplot as plt\n",
    "%matplotlib inline\n",
    "\n",
    "table = pd.DataFrame(score_table, index=C, columns=G)\n",
    "fig, ax = plt.subplots(figsize=(11, 7))\n",
    "ax.set_title('Hyperparameter Gridsearch', fontsize=18)\n",
    "sn.heatmap(table, annot=True, cmap=\"RdBu\")\n",
    "ax.set_xlabel('Gamma Parameter', fontsize=12)\n",
    "ax.set_ylabel('C Parameter', fontsize=12)\n",
    "plt.ylim(len(score_table), -0.5)\n",
    "plt.show()"
   ]
  },
  {
   "cell_type": "markdown",
   "metadata": {},
   "source": [
    "## Question 4\n",
    "Train your SVM model by the best parameters you found from question 2 on the whole training set and evaluate the performance on the test set. **You accuracy should over 0.85**"
   ]
  },
  {
   "cell_type": "code",
   "execution_count": 215,
   "metadata": {},
   "outputs": [
    {
     "name": "stdout",
     "output_type": "stream",
     "text": [
      "Accuracy score:  0.8958333333333334\n"
     ]
    }
   ],
   "source": [
    "best_model = SVC(C=best_parameters['C'], kernel='rbf', gamma=best_parameters['gamma'])\n",
    "best_model.fit(x_train, y_train)\n",
    "y_pred = best_model.predict(x_test)\n",
    "print(\"Accuracy score: \", accuracy_score(y_pred, y_test))"
   ]
  },
  {
   "cell_type": "markdown",
   "metadata": {},
   "source": [
    "## Question 5\n",
    "Compare the performance of each model you have implemented from HW1"
   ]
  },
  {
   "cell_type": "markdown",
   "metadata": {},
   "source": [
    "### HW1"
   ]
  },
  {
   "cell_type": "code",
   "execution_count": 216,
   "metadata": {},
   "outputs": [],
   "source": [
    "train_df = pd.read_csv(\"../HW1/train_data.csv\")\n",
    "x_train = train_df['x_train'].to_numpy().reshape(-1,1)\n",
    "y_train = train_df['y_train'].to_numpy().reshape(-1,1)\n",
    "test_df = pd.read_csv(\"../HW1/test_data.csv\")\n",
    "x_test = test_df['x_test'].to_numpy().reshape(-1,1)\n",
    "y_test = test_df['y_test'].to_numpy().reshape(-1,1)"
   ]
  },
  {
   "cell_type": "code",
   "execution_count": 217,
   "metadata": {},
   "outputs": [],
   "source": [
    "def gradient_descent(X, y, theta, learning_rate=1e-4, iterations=100):\n",
    "    m = len(y)\n",
    "    cost_history = np.zeros(iterations)\n",
    "    theta_history = np.zeros((iterations,2))\n",
    "    for it in range(iterations):   \n",
    "        prediction = np.dot(X,theta)\n",
    "        theta = theta - learning_rate*((X.T).dot((prediction - y)))\n",
    "        cost_history[it]  = cal_cost(theta,X,y)\n",
    "    return theta, cost_history"
   ]
  },
  {
   "cell_type": "code",
   "execution_count": 218,
   "metadata": {},
   "outputs": [],
   "source": [
    "def cal_cost(theta, X, y):\n",
    "    m = len(y)\n",
    "    predictions = X.dot(theta)\n",
    "    cost = (1/2) * np.sum(np.square(predictions-y))\n",
    "    return cost"
   ]
  },
  {
   "cell_type": "code",
   "execution_count": 219,
   "metadata": {},
   "outputs": [
    {
     "name": "stdout",
     "output_type": "stream",
     "text": [
      "[[0.78456508]\n",
      " [0.81797038]]\n"
     ]
    }
   ],
   "source": [
    "theta = np.random.rand(2, 1)\n",
    "l_r = 1e-4\n",
    "n_iter = 100\n",
    "X_b = np.c_[np.ones((len(x_train), 1)), x_train]    #全部補1才可以用內積算\n",
    "theta_best = np.linalg.inv(X_b.T.dot(X_b)).dot(X_b.T).dot(y_train)  #先用公式解算算答案\n",
    "print(theta_best)\n",
    "'''print(X_b.shape)'''\n",
    "theta, cost_history = gradient_descent(X_b, y_train, theta, l_r, n_iter)    "
   ]
  },
  {
   "cell_type": "code",
   "execution_count": 220,
   "metadata": {},
   "outputs": [],
   "source": [
    "X_test_b = np.c_[np.ones((len(x_test), 1)), x_test]    #全部補1才可以用內積算\n",
    "y_pred_HW1 = np.dot(X_test_b, theta)\n",
    "MSE_HW1 = 0.0\n",
    "MSE_HW1 = cal_cost(theta, X_test_b, y_test)"
   ]
  },
  {
   "cell_type": "code",
   "execution_count": 221,
   "metadata": {},
   "outputs": [
    {
     "data": {
      "text/plain": [
       "SVR(C=10000, cache_size=200, coef0=0.0, degree=3, epsilon=0.1, gamma=0.0001,\n",
       "    kernel='rbf', max_iter=-1, shrinking=True, tol=0.001, verbose=False)"
      ]
     },
     "execution_count": 221,
     "metadata": {},
     "output_type": "execute_result"
    }
   ],
   "source": [
    "\n",
    "y_train = np.squeeze(y_train.T)  #變成一維\n",
    "best_parameters, score_table = grid_search(x_train, y_train, cla=0, k=5)\n",
    "model = SVR(C=best_parameters['C'], kernel='rbf', gamma=best_parameters['gamma'])\n",
    "model.fit(x_train, y_train)"
   ]
  },
  {
   "cell_type": "code",
   "execution_count": 222,
   "metadata": {},
   "outputs": [
    {
     "data": {
      "image/png": "[encoded data removed]",
      "text/plain": [
       "<Figure size 792x504 with 2 Axes>"
      ]
     },
     "metadata": {
      "needs_background": "light"
     },
     "output_type": "display_data"
    }
   ],
   "source": [
    "table = pd.DataFrame(score_table, index=C, columns=G)\n",
    "fig, ax = plt.subplots(figsize=(11, 7))\n",
    "ax.set_title('Hyperparameter Gridsearch', fontsize=18)\n",
    "sn.heatmap(table, annot=True, cmap=\"RdBu\")\n",
    "ax.set_xlabel('Gamma Parameter', fontsize=12)\n",
    "ax.set_ylabel('C Parameter', fontsize=12)\n",
    "plt.ylim(len(score_table), -0.5)\n",
    "plt.show()  \n",
    "#這裡使用的score不是MSE，是SVR裡定義的score，score = 1-(u/v)\n",
    "# u = ((y_true - y_pred) ** 2).sum()\n",
    "# v = ((y_true - y_true.mean()) ** 2).sum().\n",
    "# The best possible score is 1.0(when u is 0) and it can be negative (because the model can be arbitrarily worse). \n"
   ]
  },
  {
   "cell_type": "code",
   "execution_count": 223,
   "metadata": {},
   "outputs": [],
   "source": [
    "y_pred_HW4 = model.predict(x_test)\n",
    "MSE_HW4 = 0\n",
    "for i in range(len(y_test)):\n",
    "    MSE_HW4 = MSE_HW4 + (y_pred_HW4[i]-y_test[i])**2\n",
    "MSE_HW4 /= 2\n",
    "MSE_HW4 = np.squeeze(MSE_HW4)"
   ]
  },
  {
   "cell_type": "code",
   "execution_count": 224,
   "metadata": {},
   "outputs": [
    {
     "name": "stdout",
     "output_type": "stream",
     "text": [
      "Square error of Linear regression:  3.436365890903995\n",
      "Square error of SVM regresssion model:  3.650118675491119\n"
     ]
    }
   ],
   "source": [
    "print(\"Square error of Linear regression: \", MSE_HW1)   #這裡使用的MSE是(1/2) * 殘差平方和\n",
    "print(\"Square error of SVM regresssion model: \", MSE_HW4)"
   ]
  }
 ],
 "metadata": {
  "kernelspec": {
   "display_name": "Python 3",
   "language": "python",
   "name": "python3"
  },
  "language_info": {
   "codemirror_mode": {
    "name": "ipython",
    "version": 3
   },
   "file_extension": ".py",
   "mimetype": "text/x-python",
   "name": "python",
   "nbconvert_exporter": "python",
   "pygments_lexer": "ipython3",
   "version": "3.7.6"
  }
 },
 "nbformat": 4,
 "nbformat_minor": 4
}
