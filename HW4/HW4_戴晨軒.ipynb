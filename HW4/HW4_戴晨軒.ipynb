{
 "cells": [
  {
   "cell_type": "code",
   "execution_count": 21,
   "metadata": {},
   "outputs": [],
   "source": [
    "import numpy as np\n",
    "import pandas as pd\n",
    "from sklearn.svm import SVC, SVR\n",
    "from sklearn.metrics import accuracy_score"
   ]
  },
  {
   "cell_type": "markdown",
   "metadata": {},
   "source": [
    "## Load data"
   ]
  },
  {
   "cell_type": "code",
   "execution_count": 22,
   "metadata": {},
   "outputs": [],
   "source": [
    "x_train = np.load(\"x_train.npy\")\n",
    "y_train = np.load(\"y_train.npy\")\n",
    "x_test = np.load(\"x_test.npy\")\n",
    "y_test = np.load(\"y_test.npy\")"
   ]
  },
  {
   "cell_type": "code",
   "execution_count": 23,
   "metadata": {},
   "outputs": [
    {
     "name": "stdout",
     "output_type": "stream",
     "text": [
      "(550, 300)\n",
      "(550,)\n"
     ]
    }
   ],
   "source": [
    "# 550 data with 300 features\n",
    "print(x_train.shape)\n",
    "print(y_train.shape)"
   ]
  },
  {
   "cell_type": "code",
   "execution_count": 24,
   "metadata": {},
   "outputs": [
    {
     "name": "stdout",
     "output_type": "stream",
     "text": [
      "[0 1]\n"
     ]
    }
   ],
   "source": [
    "# It's a binary classification problem \n",
    "print(np.unique(y_train))"
   ]
  },
  {
   "cell_type": "markdown",
   "metadata": {},
   "source": [
    "## Question 1\n",
    "K-fold data partition: Implement the K-fold cross-validation function. Your function should take K as an argument and return a list of lists (len(list) should equal to K), which contains K elements. Each element is a list contains two parts, the first part contains the index of all training folds, e.g. Fold 2 to Fold 5 in split 1. The second part contains the index of validation fold, e.g. Fold 1 in  split 1"
   ]
  },
  {
   "cell_type": "code",
   "execution_count": 25,
   "metadata": {},
   "outputs": [],
   "source": [
    "def cross_validation(x_train, y_train, k=5):\n",
    "    sample_num = len(y_train)\n",
    "    total_index = [i for i in range(sample_num)]\n",
    "    np.random.shuffle(total_index)\n",
    "\n",
    "    count = 0\n",
    "    k_fold = []\n",
    "    for i in range(k):\n",
    "        if i < sample_num % k:\n",
    "            num = sample_num//k+1\n",
    "        else:\n",
    "            num = sample_num//k\n",
    "\n",
    "        valid_index = [total_index[j] for j in range(count, count+num)]\n",
    "        valid_index.sort()\n",
    "        valid_index = np.array(valid_index)\n",
    "        train_index = np.array([j for j in range(sample_num) if j not in valid_index])\n",
    "        dataset = [train_index, valid_index]\n",
    "        k_fold.append(dataset)\n",
    "\n",
    "        count += num\n",
    "\n",
    "    return k_fold"
   ]
  },
  {
   "cell_type": "code",
   "execution_count": 26,
   "metadata": {},
   "outputs": [],
   "source": [
    "kfold_data = cross_validation(x_train, y_train, k=10)\n",
    "assert len(kfold_data) == 10 # should contain 10 fold of data\n",
    "assert len(kfold_data[0]) == 2 # each element should contain train fold and validation fold\n",
    "assert kfold_data[0][1].shape[0] == 55 # The number of data in each validation fold should equal to training data divieded by K"
   ]
  },
  {
   "cell_type": "code",
   "execution_count": 27,
   "metadata": {},
   "outputs": [
    {
     "name": "stdout",
     "output_type": "stream",
     "text": [
      "Split: 1, Training index: [ 1  2  3  4  5  6  7  9 10 12 13 15 16 17 18 19], Validation index: [ 0  8 11 14]\n",
      "Split: 2, Training index: [ 0  1  3  5  6  8  9 10 11 12 13 14 15 16 18 19], Validation index: [ 2  4  7 17]\n",
      "Split: 3, Training index: [ 0  1  2  4  5  6  7  8  9 10 11 12 13 14 17 18], Validation index: [ 3 15 16 19]\n",
      "Split: 4, Training index: [ 0  2  3  4  5  7  8 11 12 13 14 15 16 17 18 19], Validation index: [ 1  6  9 10]\n",
      "Split: 5, Training index: [ 0  1  2  3  4  6  7  8  9 10 11 14 15 16 17 19], Validation index: [ 5 12 13 18]\n"
     ]
    }
   ],
   "source": [
    "X = np.arange(20)\n",
    "kf = cross_validation(X, X, 5)\n",
    "kfold_data = []\n",
    "for i, (train_index, val_index) in enumerate(kf):\n",
    "    print(\"Split: %s, Training index: %s, Validation index: %s\" % (i+1, train_index, val_index))\n",
    "    kfold_data.append([train_index, val_index])"
   ]
  },
  {
   "cell_type": "markdown",
   "metadata": {},
   "source": [
    "## example"
   ]
  },
  {
   "cell_type": "code",
   "execution_count": 28,
   "metadata": {},
   "outputs": [
    {
     "name": "stdout",
     "output_type": "stream",
     "text": [
      "Split: 1, Training index: [ 0  1  2  3  4  6  7  8  9 11 12 13 14 15 17 19], Validation index: [ 5 10 16 18]\n",
      "Split: 2, Training index: [ 0  1  4  5  6  7  9 10 11 13 14 15 16 17 18 19], Validation index: [ 2  3  8 12]\n",
      "Split: 3, Training index: [ 0  1  2  3  4  5  6  7  8  9 10 12 14 16 17 18], Validation index: [11 13 15 19]\n",
      "Split: 4, Training index: [ 2  3  4  5  6  7  8  9 10 11 12 13 15 16 18 19], Validation index: [ 0  1 14 17]\n",
      "Split: 5, Training index: [ 0  1  2  3  5  8 10 11 12 13 14 15 16 17 18 19], Validation index: [4 6 7 9]\n"
     ]
    }
   ],
   "source": [
    "from sklearn.model_selection import KFold\n",
    "X = np.arange(20)\n",
    "kf = KFold(n_splits=5, shuffle=True)\n",
    "kfold_data = []\n",
    "for i, (train_index, val_index) in enumerate(kf.split(X)):\n",
    "    print(\"Split: %s, Training index: %s, Validation index: %s\" % (i+1, train_index, val_index))\n",
    "    kfold_data.append([train_index, val_index])"
   ]
  },
  {
   "cell_type": "code",
   "execution_count": 29,
   "metadata": {},
   "outputs": [],
   "source": [
    "assert len(kfold_data) == 5 # should contain 5 fold of data\n",
    "assert len(kfold_data[0]) == 2 # each element should contains index of training fold and validation fold\n",
    "assert kfold_data[0][1].shape[0] == 4 # The number of data in each validation fold should equal to training data divieded by K"
   ]
  },
  {
   "cell_type": "markdown",
   "metadata": {},
   "source": [
    "## Question 2\n",
    "Using sklearn.svm.SVC to train a classifier on the provided train set and conduct the grid search of “C”, “kernel” and “gamma” to find the best parameters by cross-validation."
   ]
  },
  {
   "cell_type": "code",
   "execution_count": 30,
   "metadata": {},
   "outputs": [
    {
     "data": {
      "text/plain": [
       "0.6927083333333334"
      ]
     },
     "execution_count": 30,
     "metadata": {},
     "output_type": "execute_result"
    }
   ],
   "source": [
    "clf = SVC(C=1.0, kernel='rbf', gamma=0.01)\n",
    "clf.fit(x_train, y_train)\n",
    "clf.score(x_test, y_test)"
   ]
  },
  {
   "cell_type": "code",
   "execution_count": 31,
   "metadata": {},
   "outputs": [],
   "source": [
    "C = [10**i for i in range(-2, 5)]\n",
    "G = [10**i for i in range(-4, 4)]"
   ]
  },
  {
   "cell_type": "code",
   "execution_count": 32,
   "metadata": {},
   "outputs": [],
   "source": [
    "# your code\n",
    "def gridSearch(x_train, y_train, classify, k):\n",
    "    best_score = 0\n",
    "    score_table = np.zeros((7, 8))\n",
    "\n",
    "    kfold_data = cross_validation(x_train, y_train, k)\n",
    "\n",
    "    new_x_train = []\n",
    "    new_y_train = []\n",
    "    new_x_valid = []\n",
    "    new_y_valid = []\n",
    "    for i in range(k):\n",
    "        new_x_train.append([x_train[j] for j in kfold_data[i][0]])\n",
    "        new_y_train.append([y_train[j] for j in kfold_data[i][0]])\n",
    "        new_x_valid.append([x_train[j] for j in kfold_data[i][1]])\n",
    "        new_y_valid.append([y_train[j] for j in kfold_data[i][1]])\n",
    "\n",
    "    for i in range(len(C)):\n",
    "        for j in range(len(G)):\n",
    "            if classify:\n",
    "                clf = SVC(C=C[i], kernel='rbf', gamma=G[j])\n",
    "            else:\n",
    "                clf = SVR(C=C[i], kernel='rbf', gamma=G[j])\n",
    "\n",
    "            total_score = []\n",
    "            for x in range(k):\n",
    "                clf.fit(new_x_train[x], new_y_train[x])\n",
    "                total_score.append(clf.score(new_x_valid[x], new_y_valid[x]))\n",
    "            score = np.mean(total_score)\n",
    "\n",
    "            if score > best_score:\n",
    "                best_score = score\n",
    "                best_parameters = {\"C\": C[i], \"Gamma\": G[j]}\n",
    "            score_table[i][j] = score\n",
    "\n",
    "    return best_parameters, score_table"
   ]
  },
  {
   "cell_type": "code",
   "execution_count": 33,
   "metadata": {},
   "outputs": [],
   "source": [
    "best_parameters, score_table = gridSearch(x_train, y_train, classify=1, k=5)"
   ]
  },
  {
   "cell_type": "code",
   "execution_count": 34,
   "metadata": {},
   "outputs": [
    {
     "name": "stdout",
     "output_type": "stream",
     "text": [
      "{'C': 10, 'Gamma': 0.001}\n"
     ]
    }
   ],
   "source": [
    "print(best_parameters)"
   ]
  },
  {
   "cell_type": "markdown",
   "metadata": {},
   "source": [
    "## Question 3\n",
    "Plot the grid search results of your SVM. The x, y represents the hyperparameters of “gamma” and “C”, respectively. And the color represents the average score of validation folds\n",
    "You reults should be look like the reference image ![image](https://miro.medium.com/max/1296/1*wGWTup9r4cVytB5MOnsjdQ.png) "
   ]
  },
  {
   "cell_type": "code",
   "execution_count": 35,
   "metadata": {},
   "outputs": [
    {
     "data": {
      "image/png": "[encoded data removed]",
      "text/plain": [
       "<Figure size 720x504 with 2 Axes>"
      ]
     },
     "metadata": {
      "needs_background": "light"
     },
     "output_type": "display_data"
    }
   ],
   "source": [
    "import seaborn as sn\n",
    "import matplotlib.pyplot as plt\n",
    "%matplotlib inline\n",
    "\n",
    "table = pd.DataFrame(score_table, index=C, columns=G)\n",
    "plt.figure(figsize=(10, 7))\n",
    "sn.heatmap(table, annot=True, cmap=\"RdPu_r\")\n",
    "plt.ylim(len(score_table), -0.5)\n",
    "plt.show()"
   ]
  },
  {
   "cell_type": "markdown",
   "metadata": {},
   "source": [
    "## Question 4\n",
    "Train your SVM model by the best parameters you found from question 2 on the whole training set and evaluate the performance on the test set. **You accuracy should over 0.85**"
   ]
  },
  {
   "cell_type": "code",
   "execution_count": 36,
   "metadata": {},
   "outputs": [
    {
     "data": {
      "text/plain": [
       "SVC(C=10, break_ties=False, cache_size=200, class_weight=None, coef0=0.0,\n",
       "    decision_function_shape='ovr', degree=3, gamma=0.001, kernel='rbf',\n",
       "    max_iter=-1, probability=False, random_state=None, shrinking=True,\n",
       "    tol=0.001, verbose=False)"
      ]
     },
     "execution_count": 36,
     "metadata": {},
     "output_type": "execute_result"
    }
   ],
   "source": [
    "best_model = SVC(C=best_parameters['C'], kernel='rbf', gamma=best_parameters['Gamma'])\n",
    "best_model.fit(x_train, y_train)"
   ]
  },
  {
   "cell_type": "code",
   "execution_count": 37,
   "metadata": {},
   "outputs": [
    {
     "name": "stdout",
     "output_type": "stream",
     "text": [
      "Accuracy score:  0.8958333333333334\n"
     ]
    }
   ],
   "source": [
    "y_pred = best_model.predict(x_test)\n",
    "print(\"Accuracy score: \", accuracy_score(y_pred, y_test))"
   ]
  },
  {
   "cell_type": "markdown",
   "metadata": {},
   "source": [
    "## Question 5\n",
    "Compare the performance of each model you have implemented from HW1"
   ]
  },
  {
   "cell_type": "markdown",
   "metadata": {},
   "source": [
    "### HW1"
   ]
  },
  {
   "cell_type": "code",
   "execution_count": 48,
   "metadata": {},
   "outputs": [],
   "source": [
    "train_df = pd.read_csv(\"../HW1/train_data.csv\")\n",
    "x_train = train_df['x_train'].to_numpy().reshape(-1, 1)\n",
    "y_train = train_df['y_train'].to_numpy().reshape(-1, 1)\n",
    "\n",
    "test_df = pd.read_csv(\"../HW1/test_data.csv\")\n",
    "x_test = test_df['x_test'].to_numpy().reshape(-1, 1)\n",
    "y_test = test_df['y_test'].to_numpy().reshape(-1, 1)"
   ]
  },
  {
   "cell_type": "code",
   "execution_count": 49,
   "metadata": {},
   "outputs": [],
   "source": [
    "def model(x_data):\n",
    "    return [a*x + b for x in x_data]"
   ]
  },
  {
   "cell_type": "code",
   "execution_count": 50,
   "metadata": {},
   "outputs": [],
   "source": [
    "def update_model():\n",
    "    global a\n",
    "    global b\n",
    "    a = a - (10**-4)*(gradient_a)\n",
    "    b = b - (10**-4)*(gradient_b)"
   ]
  },
  {
   "cell_type": "code",
   "execution_count": 51,
   "metadata": {},
   "outputs": [],
   "source": [
    "a = 0.82\n",
    "b = 0.79\n",
    "\n",
    "for j in range(100):\n",
    "    gradient_a = 0\n",
    "    gradient_b = 0\n",
    "    loss_data = 0\n",
    "    y_pred = model(x_train)\n",
    "\n",
    "    for i in range(len(x_train)):\n",
    "        gradient_a = gradient_a + 2*(y_pred[i]-y_train[i])*x_train[i]\n",
    "        gradient_b = gradient_b + 2*(y_pred[i]-y_train[i])\n",
    "    gradient_a = gradient_a / 2\n",
    "    gradient_b = gradient_b / 2\n",
    "\n",
    "    update_model()"
   ]
  },
  {
   "cell_type": "code",
   "execution_count": 52,
   "metadata": {},
   "outputs": [],
   "source": [
    "y_pred_HW1 = model(x_test)"
   ]
  },
  {
   "cell_type": "markdown",
   "metadata": {},
   "source": [
    "HW4"
   ]
  },
  {
   "cell_type": "code",
   "execution_count": 53,
   "metadata": {},
   "outputs": [],
   "source": [
    "best_parameters, score_table = gridSearch(x_train, y_train.T[0], classify=0, k=5)"
   ]
  },
  {
   "cell_type": "code",
   "execution_count": 54,
   "metadata": {},
   "outputs": [
    {
     "data": {
      "text/plain": [
       "SVR(C=1000, cache_size=200, coef0=0.0, degree=3, epsilon=0.1, gamma=0.001,\n",
       "    kernel='rbf', max_iter=-1, shrinking=True, tol=0.001, verbose=False)"
      ]
     },
     "execution_count": 54,
     "metadata": {},
     "output_type": "execute_result"
    }
   ],
   "source": [
    "best_model = SVR(C=best_parameters['C'], kernel='rbf', gamma=best_parameters['Gamma'])\n",
    "best_model.fit(x_train, y_train.T[0])"
   ]
  },
  {
   "cell_type": "code",
   "execution_count": 55,
   "metadata": {},
   "outputs": [
    {
     "data": {
      "image/png": "[encoded data removed]",
      "text/plain": [
       "<Figure size 792x504 with 2 Axes>"
      ]
     },
     "metadata": {
      "needs_background": "light"
     },
     "output_type": "display_data"
    }
   ],
   "source": [
    "table = pd.DataFrame(score_table, index=C, columns=G)\n",
    "fig, ax = plt.subplots(figsize=(11, 7))\n",
    "ax.set_title('Hyperparameter Gridsearch', fontsize=18)\n",
    "sn.heatmap(table, annot=True, cmap=\"RdBu\")\n",
    "ax.set_xlabel('Gamma Parameter', fontsize=12)\n",
    "ax.set_ylabel('C Parameter', fontsize=12)\n",
    "plt.ylim(len(score_table), -0.5)\n",
    "plt.show()"
   ]
  },
  {
   "cell_type": "code",
   "execution_count": 56,
   "metadata": {},
   "outputs": [],
   "source": [
    "y_pred_HW4 = best_model.predict(x_test)"
   ]
  },
  {
   "cell_type": "markdown",
   "metadata": {},
   "source": [
    "Mean Square Errors"
   ]
  },
  {
   "cell_type": "code",
   "execution_count": 57,
   "metadata": {},
   "outputs": [],
   "source": [
    "def get_MSE(y_pred, y_test):\n",
    "    MSE = 0\n",
    "\n",
    "    for i in range(len(y_test)):\n",
    "        MSE = MSE + (y_pred[i]-y_test[i])**2\n",
    "    MSE = MSE/len(y_test)\n",
    "\n",
    "    return MSE"
   ]
  },
  {
   "cell_type": "code",
   "execution_count": 58,
   "metadata": {},
   "outputs": [
    {
     "name": "stdout",
     "output_type": "stream",
     "text": [
      "Square error of Linear regression:  [0.06870391]\n",
      "Square error of SVM regresssion model:  [0.07200437]\n"
     ]
    }
   ],
   "source": [
    "print(\"Square error of Linear regression: \", get_MSE(y_pred_HW1, y_test))\n",
    "print(\"Square error of SVM regresssion model: \", get_MSE(y_pred_HW4, y_test))"
   ]
  },
  {
   "cell_type": "code",
   "execution_count": null,
   "metadata": {},
   "outputs": [],
   "source": []
  }
 ],
 "metadata": {
  "kernelspec": {
   "display_name": "Python 3",
   "language": "python",
   "name": "python3"
  },
  "language_info": {
   "codemirror_mode": {
    "name": "ipython",
    "version": 3
   },
   "file_extension": ".py",
   "mimetype": "text/x-python",
   "name": "python",
   "nbconvert_exporter": "python",
   "pygments_lexer": "ipython3",
   "version": "3.7.6"
  }
 },
 "nbformat": 4,
 "nbformat_minor": 4
}
