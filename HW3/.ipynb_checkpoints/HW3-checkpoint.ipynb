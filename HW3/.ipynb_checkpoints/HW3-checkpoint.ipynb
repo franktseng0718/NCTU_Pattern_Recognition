{
 "cells": [
  {
   "cell_type": "markdown",
   "metadata": {},
   "source": [
    "## HW3: Decision Tree and Random Forest\n",
    "In hw3, you need to implement decision tree and random forest by using only numpy, then train your implemented model by the provided dataset and test the performance with testing data\n",
    "\n",
    "Please note that only **NUMPY** can be used to implement your model, you will get no points by simply calling sklearn.tree.DecisionTreeClassifier"
   ]
  },
  {
   "cell_type": "code",
   "execution_count": 302,
   "metadata": {},
   "outputs": [
    {
     "name": "stdout",
     "output_type": "stream",
     "text": [
      "Collecting sklearn\n",
      "  Downloading sklearn-0.0.tar.gz (1.1 kB)\n",
      "Requirement already satisfied: scikit-learn in c:\\users\\hp 15\\anaconda3\\lib\\site-packages (from sklearn) (0.22.1)\n",
      "Requirement already satisfied: joblib>=0.11 in c:\\users\\hp 15\\anaconda3\\lib\\site-packages (from scikit-learn->sklearn) (0.14.1)\n",
      "Requirement already satisfied: scipy>=0.17.0 in c:\\users\\hp 15\\anaconda3\\lib\\site-packages (from scikit-learn->sklearn) (1.4.1)\n",
      "Requirement already satisfied: numpy>=1.11.0 in c:\\users\\hp 15\\anaconda3\\lib\\site-packages (from scikit-learn->sklearn) (1.18.1)\n",
      "Building wheels for collected packages: sklearn\n",
      "  Building wheel for sklearn (setup.py): started\n",
      "  Building wheel for sklearn (setup.py): finished with status 'done'\n",
      "  Created wheel for sklearn: filename=sklearn-0.0-py2.py3-none-any.whl size=1320 sha256=2ed4171e6f74680e268ca4c27a1f0b9ba6c3bc5d2f82b487f82a9fe135ef9952\n",
      "  Stored in directory: c:\\users\\hp 15\\appdata\\local\\pip\\cache\\wheels\\46\\ef\\c3\\157e41f5ee1372d1be90b09f74f82b10e391eaacca8f22d33e\n",
      "Successfully built sklearn\n",
      "Installing collected packages: sklearn\n",
      "Successfully installed sklearn-0.0\n"
     ]
    }
   ],
   "source": [
    "!pip install sklearn"
   ]
  },
  {
   "cell_type": "markdown",
   "metadata": {},
   "source": [
    "## Load data"
   ]
  },
  {
   "cell_type": "code",
   "execution_count": 303,
   "metadata": {},
   "outputs": [],
   "source": [
    "import numpy as np\n",
    "import pandas as pd\n",
    "from sklearn.datasets import load_breast_cancer\n",
    "import math\n",
    "from fractions import Fraction\n",
    "import matplotlib.pyplot as plt\n",
    "import random"
   ]
  },
  {
   "cell_type": "code",
   "execution_count": 304,
   "metadata": {},
   "outputs": [
    {
     "name": "stdout",
     "output_type": "stream",
     "text": [
      "['mean radius' 'mean texture' 'mean perimeter' 'mean area'\n",
      " 'mean smoothness' 'mean compactness' 'mean concavity'\n",
      " 'mean concave points' 'mean symmetry' 'mean fractal dimension'\n",
      " 'radius error' 'texture error' 'perimeter error' 'area error'\n",
      " 'smoothness error' 'compactness error' 'concavity error'\n",
      " 'concave points error' 'symmetry error' 'fractal dimension error'\n",
      " 'worst radius' 'worst texture' 'worst perimeter' 'worst area'\n",
      " 'worst smoothness' 'worst compactness' 'worst concavity'\n",
      " 'worst concave points' 'worst symmetry' 'worst fractal dimension']\n"
     ]
    }
   ],
   "source": [
    "data = load_breast_cancer()\n",
    "feature_names = data['feature_names']\n",
    "print(feature_names)"
   ]
  },
  {
   "cell_type": "code",
   "execution_count": 305,
   "metadata": {},
   "outputs": [],
   "source": [
    "x_train = pd.read_csv(\"x_train.csv\")\n",
    "y_train = pd.read_csv(\"y_train.csv\")\n",
    "x_test = pd.read_csv(\"x_test.csv\")\n",
    "y_test = pd.read_csv(\"y_test.csv\")"
   ]
  },
  {
   "cell_type": "markdown",
   "metadata": {},
   "source": [
    "## Question 1\n",
    "Gini Index or Entropy is often used for measuring the “best” splitting of the data. Please compute the Entropy and Gini Index of provided data. Please use the formula from [page 7 of hw3 slides](https://docs.google.com/presentation/d/1ish3jEr_6be0FK4kgOZa12nYAyJFh0P2LCNsNPOCiXo/edit#slide=id.g7703d1636d_0_21)"
   ]
  },
  {
   "cell_type": "code",
   "execution_count": 306,
   "metadata": {},
   "outputs": [],
   "source": [
    "def gini(sequence):\n",
    "    answer = 1\n",
    "    num_c1 = 0;\n",
    "    num_c2 = 0;\n",
    "    for x in sequence:\n",
    "        if x == 1:\n",
    "            num_c1 += 1\n",
    "        else:\n",
    "            num_c2 += 1\n",
    "    answer = 1 - (num_c1 / sequence.size) ** 2 - (num_c2 / sequence.size) ** 2\n",
    "    return answer\n",
    "def entropy(sequence):\n",
    "    answer = 1\n",
    "    num_c1 = 0;\n",
    "    num_c2 = 0;\n",
    "    for x in sequence:\n",
    "        if x == 1:\n",
    "            num_c1 += 1\n",
    "        else:\n",
    "            num_c2 += 1\n",
    "    p1 = num_c1 / sequence.size\n",
    "    p2 = num_c2 / sequence.size\n",
    "    if p1 == 0 or p2 == 0:\n",
    "        answer = 0\n",
    "    else:\n",
    "        answer = p1 * math.log2(p1) + p2 * math.log2(p2)\n",
    "    answer = -answer\n",
    "    return answer"
   ]
  },
  {
   "cell_type": "code",
   "execution_count": 307,
   "metadata": {},
   "outputs": [],
   "source": [
    "# 1 = class 1,\n",
    "# 2 = class 2\n",
    "data = np.array([1,2,1,1,1,1,2,2,1,1,2])"
   ]
  },
  {
   "cell_type": "code",
   "execution_count": 308,
   "metadata": {},
   "outputs": [
    {
     "name": "stdout",
     "output_type": "stream",
     "text": [
      "Gini of data is  0.4628099173553719\n"
     ]
    }
   ],
   "source": [
    "print(\"Gini of data is \", gini(data))"
   ]
  },
  {
   "cell_type": "code",
   "execution_count": 309,
   "metadata": {},
   "outputs": [
    {
     "name": "stdout",
     "output_type": "stream",
     "text": [
      "Entropy of data is  0.9456603046006402\n"
     ]
    }
   ],
   "source": [
    "print(\"Entropy of data is \", entropy(data))"
   ]
  },
  {
   "cell_type": "markdown",
   "metadata": {},
   "source": [
    "## Question 2\n",
    "Implement the Decision Tree algorithm (CART, Classification and Regression Trees) and trained the model by the given arguments, and print the accuracy score on the test data. You should implement two arguments for the Decision Tree algorithm\n",
    "1. **Criterion**: The function to measure the quality of a split. Your model should support “gini” for the Gini impurity and “entropy” for the information gain. \n",
    "2. **Max_depth**: The maximum depth of the tree. If Max_depth=None, then nodes are expanded until all leaves are pure. Max_depth=1 equals to split data once\n"
   ]
  },
  {
   "cell_type": "code",
   "execution_count": 310,
   "metadata": {},
   "outputs": [
    {
     "name": "stdout",
     "output_type": "stream",
     "text": [
      "(426,)\n"
     ]
    }
   ],
   "source": [
    "y_ = y_train.squeeze()\n",
    "print(y_.shape)\n",
    "x_train_copy = x_train.values[:, :] #將Dataframe 轉成 ndarray"
   ]
  },
  {
   "cell_type": "code",
   "execution_count": 311,
   "metadata": {},
   "outputs": [],
   "source": [
    "class Node():\n",
    "    def __init__(self, criterion, num_samples, num_samples_per_class, predicted):\n",
    "        self.left = None\n",
    "        self.right = None\n",
    "        self.criterion = criterion\n",
    "        self.num_samples = num_samples\n",
    "        self.num_samples_per_class = num_samples_per_class\n",
    "        self.predicted = predicted\n",
    "        self.feature_index = 0\n",
    "        self.threshold = 0"
   ]
  },
  {
   "cell_type": "code",
   "execution_count": 312,
   "metadata": {},
   "outputs": [],
   "source": [
    "class DecisionTree():\n",
    "    def __init__(self, criterion='gini', max_depth=None, X=x_train_copy, idx=None):\n",
    "        self.criterion = criterion\n",
    "        if max_depth == None:\n",
    "            max_depth = 100\n",
    "        self.max_depth = max_depth\n",
    "        if idx is None:\n",
    "            idx = [True for i in range(30)]\n",
    "        self.idx = idx\n",
    "        self.n_class = 2\n",
    "        self.n_features = X.shape[1]\n",
    "        self.feature_importance = np.zeros(self.n_features)\n",
    "        self.root = self.GenerateTree(X, y_, 0)\n",
    "    def GenerateTree(self, X, y, depth):\n",
    "        num_samples_per_class = [np.sum(y == i) for i in range(2)]    \n",
    "        predicted = np.argmax(num_samples_per_class) #取多數\n",
    "        if self.criterion == 'gini':\n",
    "            node = Node(\n",
    "                gini(y),\n",
    "                y.size,\n",
    "                num_samples_per_class,\n",
    "                predicted,\n",
    "            )\n",
    "        else:\n",
    "            node = Node(\n",
    "                entropy(y),\n",
    "                y.size,\n",
    "                num_samples_per_class,\n",
    "                predicted,\n",
    "            )\n",
    "        if depth < self.max_depth and gini(y) > 0: #判斷是否為leaf\n",
    "            index, threshold = self.spliattri(X, y)\n",
    "            if index is not None: #判斷是否可以再分\n",
    "                indices_left = X[:, index] < threshold\n",
    "                X_left, y_left = X[indices_left], y[indices_left]\n",
    "                X_right, y_right = X[~indices_left], y[~indices_left]\n",
    "                node.feature_index = index\n",
    "                self.feature_importance[index] += 1\n",
    "                node.threshold = threshold\n",
    "                node.left = self.GenerateTree(X_left, y_left, depth + 1)\n",
    "                node.right = self.GenerateTree(X_right, y_right, depth + 1)\n",
    "        return node\n",
    "    def spliattri(self, X, y):\n",
    "        best_idx, best_thre = None, None\n",
    "        if y.size <= 1:\n",
    "            return None, None\n",
    "        n = y.size\n",
    "        if self.criterion == 'gini':\n",
    "            best_crit = gini(y)\n",
    "        else:\n",
    "            best_crit = entropy(y)\n",
    "        num_parent = [np.sum(y == i) for i in range(2)]\n",
    "        for i in range(self.n_features):\n",
    "            if self.idx[i] == False:  #為了 Random forest\n",
    "                continue\n",
    "            new_ = zip(X[:, i], y)\n",
    "            new_ = sorted(new_)\n",
    "            threshold, classes = zip(*new_)\n",
    "            #先把threshold sort過可以讓之後每次分的時候只要O(1)\n",
    "            num_left = [0, 0]\n",
    "            num_right = num_parent.copy()\n",
    "            #threshold從最小開始，所以num_left一開始是0，num_right和num_parent一樣\n",
    "            for j in range(1, n):#0等於沒分不用考慮\n",
    "                \n",
    "                c = classes[j - 1]\n",
    "                num_left[c] += 1\n",
    "                num_right[c] -= 1\n",
    "                if threshold[j] == threshold[j - 1]:\n",
    "                    continue\n",
    "                if self.criterion == 'gini': #PEP8一行有字數上限，所以分開寫\n",
    "                    criterion_left = 1 \n",
    "                    criterion_right = 1\n",
    "                    for x in range(2):\n",
    "                        p1 = num_left[x] / j\n",
    "                        p2 = num_right[x] / (n - j)\n",
    "                        criterion_left -= p1 ** 2\n",
    "                        criterion_right -= p2 ** 2\n",
    "                else:\n",
    "                    criterion_left = 0  \n",
    "                    criterion_right = 0\n",
    "                    for x in range(2):\n",
    "                        p1 = num_left[x] / j\n",
    "                        p2 = num_right[x] / (n - j)\n",
    "                        if p1 == 0:\n",
    "                            criterion_left += 0\n",
    "                        else:\n",
    "                            criterion_left += p1 * math.log2(p1)\n",
    "                        if p2 == 0:\n",
    "                            criterion_right += 0\n",
    "                        else:\n",
    "                            criterion_right += p2 * math.log2(p2)\n",
    "                    criterion_left = -criterion_left\n",
    "                    criterion_right = -criterion_right\n",
    "                crit = criterion_left * (j / n) + criterion_right * (n - j) / n\n",
    "                if crit < best_crit:\n",
    "                    best_crit = crit\n",
    "                    best_idx = i\n",
    "                    best_thre = (threshold[j] + threshold[j - 1]) / 2 # midpoint\n",
    "        return best_idx, best_thre\n",
    "    def predict(self, X, y):\n",
    "        result = [self.predict_(i) for i in X]\n",
    "        num_correct = 0\n",
    "        num_incorrect = 0\n",
    "        for i in range(y.size):\n",
    "            if result[i] == y[i]:\n",
    "                num_correct += 1\n",
    "            else:\n",
    "                num_incorrect +=1\n",
    "        return num_correct / (num_correct + num_incorrect)\n",
    "    def predict_(self, X):\n",
    "        node = self.root\n",
    "        while node.right: #判斷是否為leaf\n",
    "            if X[node.feature_index] < node.threshold:\n",
    "                node = node.left\n",
    "            else:\n",
    "                node = node.right\n",
    "        return node.predicted        "
   ]
  },
  {
   "cell_type": "code",
   "execution_count": null,
   "metadata": {},
   "outputs": [],
   "source": []
  },
  {
   "cell_type": "markdown",
   "metadata": {},
   "source": [
    "### Question 2.1\n",
    "Using Criterion=‘gini’, showing the accuracy score of test data by Max_depth=3 and Max_depth=10, respectively.\n"
   ]
  },
  {
   "cell_type": "code",
   "execution_count": 313,
   "metadata": {},
   "outputs": [],
   "source": [
    "clf_depth3 = DecisionTree(criterion='gini', max_depth=3)\n",
    "clf_depth10 = DecisionTree(criterion='gini', max_depth=10)"
   ]
  },
  {
   "cell_type": "code",
   "execution_count": 314,
   "metadata": {},
   "outputs": [
    {
     "name": "stdout",
     "output_type": "stream",
     "text": [
      "Accuracy % is 0.9230769230769231\n",
      "Accuracy % is 0.916083916083916\n"
     ]
    }
   ],
   "source": [
    "x_test = x_test.to_numpy()\n",
    "y_test = y_test.to_numpy()\n",
    "print(\"Accuracy % is {}\".format(clf_depth3.predict(x_test, y_test)))\n",
    "print(\"Accuracy % is {}\".format(clf_depth10.predict(x_test, y_test)))"
   ]
  },
  {
   "cell_type": "markdown",
   "metadata": {},
   "source": [
    "### Question 2.2\n",
    "Using Max_depth=3, showing the accuracy score of test data by Criterion=‘gini’ and Criterion=’entropy’, respectively.\n"
   ]
  },
  {
   "cell_type": "code",
   "execution_count": 315,
   "metadata": {},
   "outputs": [
    {
     "name": "stdout",
     "output_type": "stream",
     "text": [
      "Accuracy % is 0.9230769230769231\n",
      "Accuracy % is 0.9370629370629371\n"
     ]
    }
   ],
   "source": [
    "clf_gini = DecisionTree(criterion='gini', max_depth=3)\n",
    "clf_entropy = DecisionTree(criterion='entropy', max_depth=3)\n",
    "print(\"Accuracy % is {}\".format(clf_gini.predict(x_test, y_test)))\n",
    "print(\"Accuracy % is {}\".format(clf_entropy.predict(x_test, y_test)))"
   ]
  },
  {
   "cell_type": "markdown",
   "metadata": {},
   "source": [
    "- Note: All of your accuracy scores should over 0.9\n",
    "- Note: You should get the same results when re-building the model with the same arguments,  no need to prune the trees\n",
    "- Hint: You can use the recursive method to build the nodes\n"
   ]
  },
  {
   "cell_type": "markdown",
   "metadata": {},
   "source": [
    "## Question 3\n",
    "Plot the [feature importance](https://sefiks.com/2020/04/06/feature-importance-in-decision-trees/) of your Decision Tree model. You can get the feature importance by counting the feature used for splitting data.\n",
    "\n",
    "- You can simply plot the feature counts for building tree without normalize the importance\n",
    "\n",
    "![image](https://i2.wp.com/sefiks.com/wp-content/uploads/2020/04/c45-fi-results.jpg?w=481&ssl=1)"
   ]
  },
  {
   "cell_type": "code",
   "execution_count": 316,
   "metadata": {},
   "outputs": [
    {
     "data": {
      "image/png": "[encoded data removed]",
      "text/plain": [
       "<Figure size 720x576 with 1 Axes>"
      ]
     },
     "metadata": {
      "needs_background": "light"
     },
     "output_type": "display_data"
    }
   ],
   "source": [
    "plt.figure(figsize=(10,8))\n",
    "features_count = clf_depth10.feature_importance.copy()\n",
    "x = x_train.columns.copy()\n",
    "plt.barh(x, features_count)\n",
    "plt.gca().spines['top'].set_visible(False) #去框線\n",
    "plt.gca().spines['right'].set_visible(False)\n",
    "#plt.gca().spines['left'].set_visible(False)\n",
    "plt.gca().spines['bottom'].set_visible(False)\n",
    "plt.title('feature importnace', fontsize=20)\n",
    "plt.show()"
   ]
  },
  {
   "cell_type": "markdown",
   "metadata": {},
   "source": [
    "## Question 4\n",
    "implement the Random Forest algorithm by using the CART you just implemented from question 2. You should implement two arguments for the Random Forest.\n",
    "\n",
    "1. **N_estimators**: The number of trees in the forest. \n",
    "2. **Max_features**: The number of random select features to consider when looking for the best split\n",
    "3. **Bootstrap**: Whether bootstrap samples are used when building tree\n"
   ]
  },
  {
   "cell_type": "code",
   "execution_count": 317,
   "metadata": {},
   "outputs": [],
   "source": [
    "class RandomForest():\n",
    "    def __init__(self, n_estimators, max_features, bootstrap=True, criterion='gini', max_depth=None):\n",
    "        self.n_estimators = n_estimators\n",
    "        self.max_features = max_features\n",
    "        self.bootstrap = bootstrap\n",
    "        self.criterion = criterion\n",
    "        if max_depth == None:\n",
    "            self.max_depth = 100\n",
    "        else:\n",
    "            self.max_depth = max_depth\n",
    "        self.random_forest = self.random_forest()\n",
    "        return None\n",
    "    def random_forest(self):\n",
    "        trees = []\n",
    "        for i in range(self.n_estimators):\n",
    "            random_feature = np.random.choice(x_train.shape[1], int(self.max_features), replace=False)\n",
    "            choose = list() #建一個list存這些feature原本的column index(for test)\n",
    "            for i in range(30):\n",
    "                choose.append(False)\n",
    "            for i in range(int(self.max_features)):\n",
    "                choose[random_feature[i]] = True\n",
    "            tree = DecisionTree(self.criterion, self.max_depth, x_train_copy, choose)\n",
    "            trees.append(tree)\n",
    "        return trees\n",
    "    def predict(self, X, y):\n",
    "        predict = []\n",
    "        for i in X:\n",
    "            predict_i = []\n",
    "            for j in self.random_forest:\n",
    "                predict_i.append(j.predict_(i))\n",
    "            predict.append(max(predict_i, key=predict_i.count))\n",
    "        num_correct = 0\n",
    "        num_incorrect = 0\n",
    "        for i in range(y.size):\n",
    "            if predict[i] == y[i]:\n",
    "                num_correct += 1\n",
    "            else:\n",
    "                num_incorrect += 1\n",
    "        return num_correct / y.size\n",
    "            \n",
    "            \n",
    "        \n",
    "            \n",
    "        "
   ]
  },
  {
   "cell_type": "markdown",
   "metadata": {},
   "source": [
    "### Question 4.1\n",
    "Using Criterion=‘gini’, Max_depth=None, Max_features=sqrt(n_features), showing the accuracy score of test data by n_estimators=10 and n_estimators=100, respectively.\n"
   ]
  },
  {
   "cell_type": "code",
   "execution_count": 318,
   "metadata": {},
   "outputs": [],
   "source": [
    "clf_10tree = RandomForest(n_estimators=10, max_features=np.sqrt(x_train.shape[1]))\n",
    "clf_100tree = RandomForest(n_estimators=100, max_features=np.sqrt(x_train.shape[1]))"
   ]
  },
  {
   "cell_type": "code",
   "execution_count": 319,
   "metadata": {},
   "outputs": [
    {
     "name": "stdout",
     "output_type": "stream",
     "text": [
      "Accuracy % is 0.9370629370629371\n",
      "Accuracy % is 0.965034965034965\n"
     ]
    }
   ],
   "source": [
    "print(\"Accuracy % is {}\".format(clf_10tree.predict(x_test, y_test)))\n",
    "print(\"Accuracy % is {}\".format(clf_100tree.predict(x_test, y_test)))"
   ]
  },
  {
   "cell_type": "markdown",
   "metadata": {},
   "source": [
    "### Question 4.2\n",
    "Using Criterion=‘gini’, Max_depth=None, N_estimators=10, showing the accuracy score of test data by Max_features=sqrt(n_features) and Max_features=n_features, respectively.\n"
   ]
  },
  {
   "cell_type": "code",
   "execution_count": 320,
   "metadata": {},
   "outputs": [],
   "source": [
    "clf_all_features = RandomForest(n_estimators=10, max_features=np.sqrt(x_train.shape[1]))\n",
    "clf_random_features = RandomForest(n_estimators=10, max_features=x_train.shape[1])"
   ]
  },
  {
   "cell_type": "markdown",
   "metadata": {},
   "source": [
    "- Note: Use majority votes to get the final prediction, you may get slightly different results when re-building the random forest model"
   ]
  },
  {
   "cell_type": "code",
   "execution_count": 321,
   "metadata": {},
   "outputs": [
    {
     "name": "stdout",
     "output_type": "stream",
     "text": [
      "Accuracy % is 0.9300699300699301\n",
      "Accuracy % is 0.916083916083916\n"
     ]
    }
   ],
   "source": [
    "print(\"Accuracy % is {}\".format(clf_all_features.predict(x_test, y_test)))\n",
    "print(\"Accuracy % is {}\".format(clf_random_features.predict(x_test, y_test)))"
   ]
  },
  {
   "cell_type": "markdown",
   "metadata": {},
   "source": [
    "## Supplementary\n",
    "If you have trouble to implement this homework, TA strongly recommend watching [this video](https://www.youtube.com/watch?v=LDRbO9a6XPU), which explains Decision Tree model clearly. But don't copy code from any resources, try to finish this homework by yourself! "
   ]
  },
  {
   "cell_type": "code",
   "execution_count": null,
   "metadata": {},
   "outputs": [],
   "source": []
  }
 ],
 "metadata": {
  "kernelspec": {
   "display_name": "Python 3",
   "language": "python",
   "name": "python3"
  },
  "language_info": {
   "codemirror_mode": {
    "name": "ipython",
    "version": 3
   },
   "file_extension": ".py",
   "mimetype": "text/x-python",
   "name": "python",
   "nbconvert_exporter": "python",
   "pygments_lexer": "ipython3",
   "version": "3.7.6"
  }
 },
 "nbformat": 4,
 "nbformat_minor": 4
}
