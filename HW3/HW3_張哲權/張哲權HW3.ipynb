{
 "cells": [
  {
   "cell_type": "markdown",
   "metadata": {},
   "source": [
    "## HW3: Decision Tree and Random Forest\n",
    "In hw3, you need to implement decision tree and random forest by using only numpy, then train your implemented model by the provided dataset and test the performance with testing data\n",
    "\n",
    "Please note that only **NUMPY** can be used to implement your model, you will get no points by simply calling sklearn.tree.DecisionTreeClassifier"
   ]
  },
  {
   "cell_type": "code",
   "execution_count": 1,
   "metadata": {},
   "outputs": [
    {
     "name": "stdout",
     "output_type": "stream",
     "text": [
      "Requirement already satisfied: sklearn in c:\\python37\\lib\\site-packages (0.0)\n",
      "Requirement already satisfied: scikit-learn in c:\\python37\\lib\\site-packages (from sklearn) (0.22.2.post1)\n",
      "Requirement already satisfied: numpy>=1.11.0 in c:\\python37\\lib\\site-packages (from scikit-learn->sklearn) (1.18.2)\n",
      "Requirement already satisfied: joblib>=0.11 in c:\\python37\\lib\\site-packages (from scikit-learn->sklearn) (0.14.1)\n",
      "Requirement already satisfied: scipy>=0.17.0 in c:\\python37\\lib\\site-packages (from scikit-learn->sklearn) (1.4.1)\n"
     ]
    }
   ],
   "source": [
    "!pip install sklearn"
   ]
  },
  {
   "cell_type": "markdown",
   "metadata": {},
   "source": [
    "## Load data"
   ]
  },
  {
   "cell_type": "code",
   "execution_count": 2,
   "metadata": {},
   "outputs": [],
   "source": [
    "import numpy as np\n",
    "import pandas as pd\n",
    "from sklearn.datasets import load_breast_cancer\n",
    "import matplotlib.pyplot as plt"
   ]
  },
  {
   "cell_type": "code",
   "execution_count": 3,
   "metadata": {},
   "outputs": [
    {
     "name": "stdout",
     "output_type": "stream",
     "text": [
      "['mean radius' 'mean texture' 'mean perimeter' 'mean area'\n",
      " 'mean smoothness' 'mean compactness' 'mean concavity'\n",
      " 'mean concave points' 'mean symmetry' 'mean fractal dimension'\n",
      " 'radius error' 'texture error' 'perimeter error' 'area error'\n",
      " 'smoothness error' 'compactness error' 'concavity error'\n",
      " 'concave points error' 'symmetry error' 'fractal dimension error'\n",
      " 'worst radius' 'worst texture' 'worst perimeter' 'worst area'\n",
      " 'worst smoothness' 'worst compactness' 'worst concavity'\n",
      " 'worst concave points' 'worst symmetry' 'worst fractal dimension']\n"
     ]
    }
   ],
   "source": [
    "data = load_breast_cancer()\n",
    "feature_names = data['feature_names']\n",
    "print(feature_names)"
   ]
  },
  {
   "cell_type": "code",
   "execution_count": 4,
   "metadata": {},
   "outputs": [
    {
     "name": "stdout",
     "output_type": "stream",
     "text": [
      "143\n"
     ]
    }
   ],
   "source": [
    "x_train = pd.read_csv(\"x_train.csv\")\n",
    "y_train = pd.read_csv(\"y_train.csv\")\n",
    "x_test = pd.read_csv(\"x_test.csv\")\n",
    "y_test = pd.read_csv(\"y_test.csv\")\n",
    "#print(x_train.values[:, 0])\n",
    "print(x_test.values.shape[0])"
   ]
  },
  {
   "cell_type": "markdown",
   "metadata": {},
   "source": [
    "## Question 1\n",
    "Gini Index or Entropy is often used for measuring the “best” splitting of the data. Please compute the Entropy and Gini Index of provided data. Please use the formula from [page 7 of hw3 slides](https://docs.google.com/presentation/d/1ish3jEr_6be0FK4kgOZa12nYAyJFh0P2LCNsNPOCiXo/edit#slide=id.g7703d1636d_0_21)"
   ]
  },
  {
   "cell_type": "code",
   "execution_count": 5,
   "metadata": {},
   "outputs": [],
   "source": [
    "def gini(sequence):\n",
    "    cal = np.zeros(3)\n",
    "    gini_index = 1\n",
    "    for i in range (3):\n",
    "        cal[i] = len(np.where(sequence == i)[0])\n",
    "        gini_index -= pow((cal[i] / len(sequence)), 2)\n",
    "        #print(\"{}\".format(np.where(sequence == i)))\n",
    "        \n",
    "    return gini_index\n",
    "\n",
    "def entropy(sequence):\n",
    "    Entropy = 0\n",
    "    cal = np.zeros(3)\n",
    "    for i in range (3):\n",
    "        cal[i] = len(np.where(sequence == i)[0])\n",
    "        if(cal[i] == 0):\n",
    "            continue\n",
    "        Entropy -= (cal[i] / len(sequence)) * np.log2(cal[i] / len(sequence))\n",
    "        #print(\"{}\".format(Entropy))\n",
    "        \n",
    "    return Entropy"
   ]
  },
  {
   "cell_type": "code",
   "execution_count": 6,
   "metadata": {},
   "outputs": [],
   "source": [
    "# 1 = class 1,\n",
    "# 2 = class 2\n",
    "data = np.array([1,2,1,1,1,1,2,2,1,1,2])"
   ]
  },
  {
   "cell_type": "code",
   "execution_count": 7,
   "metadata": {},
   "outputs": [
    {
     "name": "stdout",
     "output_type": "stream",
     "text": [
      "Gini of data is  0.4628099173553719\n"
     ]
    }
   ],
   "source": [
    "print(\"Gini of data is \", gini(data))"
   ]
  },
  {
   "cell_type": "code",
   "execution_count": 8,
   "metadata": {},
   "outputs": [
    {
     "name": "stdout",
     "output_type": "stream",
     "text": [
      "Entropy of data is  0.9456603046006401\n"
     ]
    }
   ],
   "source": [
    "print(\"Entropy of data is \", entropy(data))"
   ]
  },
  {
   "cell_type": "markdown",
   "metadata": {},
   "source": [
    "## Question 2\n",
    "Implement the Decision Tree algorithm (CART, Classification and Regression Trees) and trained the model by the given arguments, and print the accuracy score on the test data. You should implement two arguments for the Decision Tree algorithm\n",
    "1. **Criterion**: The function to measure the quality of a split. Your model should support “gini” for the Gini impurity and “entropy” for the information gain. \n",
    "2. **Max_depth**: The maximum depth of the tree. If Max_depth=None, then nodes are expanded until all leaves are pure. Max_depth=1 equals to split data once\n"
   ]
  },
  {
   "cell_type": "code",
   "execution_count": 9,
   "metadata": {},
   "outputs": [],
   "source": [
    "class Question():\n",
    "    def __init__(self, feature, value):\n",
    "        self.feature = feature\n",
    "        self.value = value\n",
    "    \n",
    "    def check(self, x):\n",
    "        true = np.where(x[:, self.feature] >= self.value)\n",
    "        false = np.where(x[:, self.feature] < self.value)\n",
    "        \n",
    "        return true, false\n",
    "        "
   ]
  },
  {
   "cell_type": "code",
   "execution_count": 10,
   "metadata": {},
   "outputs": [],
   "source": [
    "class DecisionTree():\n",
    "    def __init__(self, criterion='gini', max_depth=None):\n",
    "        self.criterion = criterion\n",
    "        self.max_depth = max_depth\n",
    "        #print(\"init\")\n",
    "        \n",
    "    def start(self, x, y):\n",
    "        self.importance = np.zeros(x_train.values.shape[1])\n",
    "        self.tree = self.build(x, y, 0, self.max_depth)\n",
    "        #print(\"start\")\n",
    "   \n",
    "    def split(self, x, y, question):\n",
    "        true_index, false_index = Question.check(question, x)\n",
    "       \n",
    "        trueX = np.array(x[true_index])\n",
    "        trueY = np.array(y[true_index])\n",
    "        #print(trueY.T)\n",
    "        falseX = np.array(x[false_index])\n",
    "        falseY = np.array(y[false_index])\n",
    "        #print(\"split\")\n",
    "        return trueX, falseX, trueY, falseY\n",
    "                \n",
    "    def purest(self, x, y):\n",
    "        #left = 2\n",
    "        #right = 2\n",
    "        purity = 2\n",
    "        best = None\n",
    "        for idx in range(len(x[0])):\n",
    "            values = set([temp[idx] for temp in x])\n",
    "            #print(len(values))\n",
    "            for val in values:\n",
    "                question = Question(idx, val)\n",
    "                trueX, falseX, trueY, falseY = self.split(x, y, question)\n",
    "                \n",
    "                if len(trueX) == 0 or len(falseX) == 0:\n",
    "                    continue\n",
    "                    \n",
    "                if self.criterion == 'gini':\n",
    "                    left_purity = gini(trueY)\n",
    "                    right_purity = gini(falseY)\n",
    "                else:\n",
    "                    left_purity = entropy(trueY)\n",
    "                    right_purity = entropy(falseY)\n",
    "                \n",
    "                weight = len(trueY) / (len(trueY) + len(falseY))\n",
    "                #print(weight)\n",
    "                #print(left_purity)\n",
    "                result = left_purity * weight + right_purity * (1-weight)\n",
    "                \n",
    "                if result < purity:\n",
    "                    purity = result\n",
    "                    best = question\n",
    "        #print(\"purest\")\n",
    "        #print(purity)\n",
    "        #print(best)\n",
    "        return purity, best     \n",
    "                    \n",
    "    def build(self, x, y, depth, max_depth):\n",
    "        if gini(y) == 0:\n",
    "            class0 = np.where(y[:, 0] == 0)\n",
    "            #print(y[class0])\n",
    "            class1 = np.where(y[:, 0] == 1)\n",
    "            counts = {}\n",
    "            counts[0] = len(y[class0])\n",
    "            counts[1] = len(y[class1])\n",
    "            return counts\n",
    "        \n",
    "        purity, question = self.purest(x, y)\n",
    "        \n",
    "        if (max_depth is not None and depth >= max_depth) or question == None:\n",
    "            class0 = np.where(y[:, 0] == 0)\n",
    "            #print(y[class0])\n",
    "            class1 = np.where(y[:, 0] == 1)\n",
    "            counts = {}\n",
    "            counts[0] = len(y[class0])\n",
    "            counts[1] = len(y[class1])\n",
    "            return counts\n",
    "        \n",
    "        self.importance[question.feature] +=1\n",
    "        trueX, falseX, trueY, falseY = self.split(x, y, question)\n",
    "        \n",
    "        true_branch = self.build(trueX, trueY, depth + 1, max_depth)\n",
    "        false_branch = self.build(falseX, falseY, depth + 1, max_depth)\n",
    "        \n",
    "        #print(\"build\")\n",
    "        \n",
    "        return Node(question, true_branch, false_branch)\n",
    "    \n",
    "    def predict(self, x):\n",
    "        prediction = np.zeros(x.shape[0])\n",
    "        for idx in range(x.shape[0]):\n",
    "            node = self.find_node(x[idx], self.tree)\n",
    "            if node[0] < node[1]:\n",
    "                prediction[idx] = 1\n",
    "        return prediction\n",
    "\n",
    "    def find_node(self, row, tree):\n",
    "        if isinstance(tree, dict):\n",
    "            return tree\n",
    "        if row[tree.question.feature] >= tree.question.value:\n",
    "            return self.find_node(row, tree.true_branch)\n",
    "        else:\n",
    "            return self.find_node(row, tree.false_branch)\n",
    "\n",
    "    def evaluate(self, predicted, truth):\n",
    "        correct = 0\n",
    "        for i in range(len(predicted)):\n",
    "            if predicted[i] == truth[i][0]:\n",
    "                correct += 1\n",
    "        print(\"Testing accuracy is: {} with {} / {}\".format(correct / len(predicted), correct, len(predicted)))\n",
    "           "
   ]
  },
  {
   "cell_type": "code",
   "execution_count": 11,
   "metadata": {},
   "outputs": [],
   "source": [
    "class Node:\n",
    "    def __init__(self, question, true_branch, false_branch):\n",
    "        self.question = question\n",
    "        self.true_branch = true_branch\n",
    "        self.false_branch = false_branch"
   ]
  },
  {
   "cell_type": "markdown",
   "metadata": {},
   "source": [
    "### Question 2.1\n",
    "Using Criterion=‘gini’, showing the accuracy score of test data by Max_depth=3 and Max_depth=10, respectively.\n"
   ]
  },
  {
   "cell_type": "code",
   "execution_count": 25,
   "metadata": {},
   "outputs": [
    {
     "name": "stdout",
     "output_type": "stream",
     "text": [
      "Accuracy % is: 0.9300699300699301 with 133 / 143\n"
     ]
    }
   ],
   "source": [
    "clf_depth3 = DecisionTree(criterion='gini', max_depth=3)\n",
    "clf_depth3.start(x_train.values, y_train.values)\n",
    "prediction = clf_depth3.predict(x_test.values)\n",
    "#print(prediction)\n",
    "correct = 0\n",
    "for i in range(len(prediction)):\n",
    "    if prediction[i] == y_test.values[i][0]:\n",
    "        correct += 1\n",
    "print(\"Accuracy % is: {} with {} / {}\".format(correct / len(prediction), correct, len(prediction)))"
   ]
  },
  {
   "cell_type": "code",
   "execution_count": 26,
   "metadata": {},
   "outputs": [
    {
     "name": "stdout",
     "output_type": "stream",
     "text": [
      "Accuracy % is: 0.9300699300699301 with 133 / 143\n"
     ]
    }
   ],
   "source": [
    "clf_depth10 = DecisionTree(criterion='gini', max_depth=10)\n",
    "clf_depth10.start(x_train.values, y_train.values)\n",
    "prediction = clf_depth10.predict(x_test.values)\n",
    "#print(prediction)\n",
    "correct = 0\n",
    "for i in range(len(prediction)):\n",
    "    if prediction[i] == y_test.values[i][0]:\n",
    "        correct += 1\n",
    "print(\"Accuracy % is: {} with {} / {}\".format(correct / len(prediction), correct, len(prediction)))"
   ]
  },
  {
   "cell_type": "markdown",
   "metadata": {},
   "source": [
    "### Question 2.2\n",
    "Using Max_depth=3, showing the accuracy score of test data by Criterion=‘gini’ and Criterion=’entropy’, respectively.\n"
   ]
  },
  {
   "cell_type": "code",
   "execution_count": 16,
   "metadata": {},
   "outputs": [
    {
     "name": "stdout",
     "output_type": "stream",
     "text": [
      "Testing accuracy is: 0.9300699300699301 with 133 / 143\n"
     ]
    }
   ],
   "source": [
    "clf_gini = DecisionTree(criterion='gini', max_depth=3)\n",
    "clf_gini.start(x_train.values, y_train.values)\n",
    "prediction = clf_gini.predict(x_test.values)\n",
    "#print(prediction)\n",
    "correct = 0\n",
    "for i in range(len(prediction)):\n",
    "    if prediction[i] == y_test.values[i][0]:\n",
    "        correct += 1\n",
    "print(\"Accuracy % is: {} with {} / {}\".format(correct / len(prediction), correct, len(prediction)))"
   ]
  },
  {
   "cell_type": "code",
   "execution_count": 17,
   "metadata": {},
   "outputs": [
    {
     "name": "stdout",
     "output_type": "stream",
     "text": [
      "Testing accuracy is: 0.9440559440559441 with 135 / 143\n"
     ]
    }
   ],
   "source": [
    "clf_entropy = DecisionTree(criterion='entropy', max_depth=3)\n",
    "clf_entropy.start(x_train.values, y_train.values)\n",
    "prediction = clf_entropy.predict(x_test.values)\n",
    "#print(prediction)\n",
    "correct = 0\n",
    "for i in range(len(prediction)):\n",
    "    if prediction[i] == y_test.values[i][0]:\n",
    "        correct += 1\n",
    "print(\"Accuracy % is: {} with {} / {}\".format(correct / len(prediction), correct, len(prediction)))"
   ]
  },
  {
   "cell_type": "markdown",
   "metadata": {},
   "source": [
    "- Note: All of your accuracy scores should over 0.9\n",
    "- Note: You should get the same results when re-building the model with the same arguments,  no need to prune the trees\n",
    "- Hint: You can use the recursive method to build the nodes\n"
   ]
  },
  {
   "cell_type": "markdown",
   "metadata": {},
   "source": [
    "## Question 3\n",
    "Plot the [feature importance](https://sefiks.com/2020/04/06/feature-importance-in-decision-trees/) of your Decision Tree model. You can get the feature importance by counting the feature used for splitting data.\n",
    "\n",
    "- You can simply plot the feature counts for building tree without normalize the importance\n",
    "\n",
    "![image](https://i2.wp.com/sefiks.com/wp-content/uploads/2020/04/c45-fi-results.jpg?w=481&ssl=1)"
   ]
  },
  {
   "cell_type": "code",
   "execution_count": 18,
   "metadata": {},
   "outputs": [
    {
     "data": {
      "text/plain": [
       "<BarContainer object of 30 artists>"
      ]
     },
     "execution_count": 18,
     "metadata": {},
     "output_type": "execute_result"
    },
    {
     "data": {
      "image/png": "[encoded data removed]",
      "text/plain": [
       "<Figure size 720x576 with 1 Axes>"
      ]
     },
     "metadata": {
      "needs_background": "light"
     },
     "output_type": "display_data"
    }
   ],
   "source": [
    "feature_counts = clf_depth10.importance\n",
    "#print(x_train[0].values)\n",
    "x = np.array(x_train.columns)\n",
    "#y = np.array([1 ,2 ,3, 4, 5])\n",
    "plt.figure(figsize=(10,8))\n",
    "plt.title('feature importnace of my Decision Tree model')\n",
    "\n",
    "plt.barh(x, feature_counts, height = 0.6)"
   ]
  },
  {
   "cell_type": "markdown",
   "metadata": {},
   "source": [
    "## Question 4\n",
    "implement the Random Forest algorithm by using the CART you just implemented from question 2. You should implement two arguments for the Random Forest.\n",
    "\n",
    "1. **N_estimators**: The number of trees in the forest. \n",
    "2. **Max_features**: The number of random select features to consider when looking for the best split\n",
    "3. **Bootstrap**: Whether bootstrap samples are used when building tree\n"
   ]
  },
  {
   "cell_type": "code",
   "execution_count": 19,
   "metadata": {},
   "outputs": [],
   "source": [
    "class RandomForest():\n",
    "    def __init__(self, n_estimators, max_features, boostrap=True, criterion='gini', max_depth=None):\n",
    "        self.n_estimators = n_estimators\n",
    "        self.max_features = max_features\n",
    "        self.boostrap = boostrap\n",
    "        self.criterion = criterion\n",
    "        self.max_depth = max_depth\n",
    "        return None\n",
    "    \n",
    "    def random(self, x, y):\n",
    "        random_forest = []\n",
    "        for idx in range (self.n_estimators):\n",
    "            random_data = np.random.choice(x.shape[0], x.shape[0],  replace = True)\n",
    "            random_feature = np.random.choice(x.shape[1], int(self.max_features), replace = False)\n",
    "            rowX = x[random_data, :]\n",
    "            rowY = y[random_data, :]\n",
    "            column = rowX[:, random_feature]\n",
    "            random_forest.append(([self.build(rowY, column), random_feature]))\n",
    "        #print(random_forest)\n",
    "        self.random_forest = random_forest    \n",
    "    def build(self, y, column):\n",
    "        tree = DecisionTree(criterion=self.criterion, max_depth=self.max_depth)\n",
    "        tree.start(column, y)       \n",
    "        return tree    \n",
    "    def predict(self, x):\n",
    "        prediction = np.zeros(x.shape[0])\n",
    "        for idx in range(x.shape[0]):\n",
    "            compare = np.zeros(2)\n",
    "            for tree in range(self.n_estimators):\n",
    "                column = x[:, self.random_forest[tree][1]]\n",
    "                node = self.random_forest[tree][0].find_node(column[idx], self.random_forest[tree][0].tree)\n",
    "                if node[0] > node[1]:\n",
    "                    compare[0] += 1\n",
    "                else:\n",
    "                    compare[1] += 1\n",
    "                    \n",
    "            if(compare[0] < compare[1]):\n",
    "                prediction[idx] = 1\n",
    "        print(prediction)\n",
    "        return prediction\n",
    "            \n",
    "        \n",
    "            "
   ]
  },
  {
   "cell_type": "markdown",
   "metadata": {},
   "source": [
    "### Question 4.1\n",
    "Using Criterion=‘gini’, Max_depth=None, Max_features=sqrt(n_features), showing the accuracy score of test data by n_estimators=10 and n_estimators=100, respectively.\n"
   ]
  },
  {
   "cell_type": "code",
   "execution_count": 20,
   "metadata": {},
   "outputs": [
    {
     "name": "stdout",
     "output_type": "stream",
     "text": [
      "[0. 0. 1. 1. 0. 0. 1. 1. 1. 0. 1. 1. 1. 1. 1. 1. 1. 1. 0. 0. 1. 0. 1. 1.\n",
      " 1. 1. 0. 1. 0. 1. 1. 0. 1. 0. 1. 1. 1. 1. 0. 0. 1. 0. 0. 0. 0. 1. 1. 1.\n",
      " 0. 0. 1. 0. 0. 0. 1. 0. 1. 0. 0. 1. 1. 1. 0. 1. 0. 0. 0. 1. 0. 1. 1. 1.\n",
      " 1. 0. 1. 1. 1. 0. 1. 0. 1. 1. 1. 1. 0. 1. 0. 1. 0. 0. 1. 0. 0. 1. 1. 0.\n",
      " 1. 1. 1. 1. 1. 1. 1. 1. 1. 0. 0. 0. 0. 1. 0. 0. 1. 1. 0. 1. 1. 1. 0. 1.\n",
      " 1. 1. 1. 0. 0. 1. 1. 1. 0. 1. 0. 0. 1. 1. 1. 1. 0. 1. 0. 0. 1. 0. 1.]\n",
      "Testing accuracy is: 0.9300699300699301 with 133 / 143\n"
     ]
    }
   ],
   "source": [
    "clf_10tree = RandomForest(n_estimators=10, max_features=np.sqrt(x_train.shape[1]))\n",
    "clf_10tree.random(x_train.values, y_train.values)\n",
    "prediction = clf_10tree.predict(x_test.values)\n",
    "correct = 0\n",
    "for i in range(len(prediction)):\n",
    "    if prediction[i] == y_test.values[i][0]:\n",
    "        correct += 1\n",
    "print(\"Accuracy % is: {} with {} / {}\".format(correct / len(prediction), correct, len(prediction)))\n",
    "#print(len(x_test.values))"
   ]
  },
  {
   "cell_type": "code",
   "execution_count": 21,
   "metadata": {},
   "outputs": [
    {
     "name": "stdout",
     "output_type": "stream",
     "text": [
      "[0. 0. 1. 1. 0. 1. 1. 1. 1. 0. 1. 1. 1. 1. 1. 1. 1. 1. 0. 0. 1. 0. 1. 1.\n",
      " 1. 1. 0. 1. 0. 1. 1. 0. 1. 0. 1. 1. 1. 1. 0. 0. 1. 1. 1. 0. 0. 1. 1. 1.\n",
      " 0. 0. 1. 0. 0. 0. 1. 0. 1. 0. 0. 1. 1. 1. 0. 1. 0. 0. 0. 1. 0. 1. 1. 1.\n",
      " 1. 0. 1. 1. 1. 0. 1. 0. 1. 1. 1. 1. 0. 1. 0. 1. 1. 0. 1. 0. 1. 1. 1. 0.\n",
      " 1. 1. 1. 1. 1. 1. 1. 1. 1. 1. 0. 0. 0. 1. 0. 0. 1. 1. 0. 1. 1. 1. 0. 1.\n",
      " 1. 1. 1. 0. 0. 1. 1. 1. 0. 1. 0. 0. 1. 1. 1. 1. 0. 1. 0. 0. 1. 0. 1.]\n",
      "Testing accuracy is: 0.9440559440559441 with 135 / 143\n"
     ]
    }
   ],
   "source": [
    "clf_100tree = RandomForest(n_estimators=100, max_features=np.sqrt(x_train.shape[1]))\n",
    "clf_100tree.random(x_train.values, y_train.values)\n",
    "prediction = clf_100tree.predict(x_test.values)\n",
    "correct = 0\n",
    "for i in range(len(prediction)):\n",
    "    if prediction[i] == y_test.values[i][0]:\n",
    "        correct += 1\n",
    "print(\"Accuracy % is: {} with {} / {}\".format(correct / len(prediction), correct, len(prediction)))"
   ]
  },
  {
   "cell_type": "markdown",
   "metadata": {},
   "source": [
    "### Question 4.2\n",
    "Using Criterion=‘gini’, Max_depth=None, N_estimators=10, showing the accuracy score of test data by Max_features=sqrt(n_features) and Max_features=n_features, respectively.\n"
   ]
  },
  {
   "cell_type": "code",
   "execution_count": 22,
   "metadata": {},
   "outputs": [
    {
     "name": "stdout",
     "output_type": "stream",
     "text": [
      "[0. 1. 1. 1. 0. 1. 1. 0. 1. 0. 1. 1. 1. 0. 1. 1. 1. 1. 0. 0. 1. 0. 1. 1.\n",
      " 1. 1. 0. 1. 0. 1. 1. 0. 1. 0. 1. 1. 1. 1. 0. 0. 1. 1. 0. 0. 0. 1. 1. 1.\n",
      " 0. 0. 1. 0. 0. 0. 1. 0. 1. 0. 0. 1. 0. 1. 0. 1. 0. 0. 0. 1. 0. 1. 1. 1.\n",
      " 1. 0. 1. 1. 1. 0. 1. 0. 1. 1. 1. 1. 0. 1. 0. 1. 1. 0. 1. 0. 0. 1. 1. 0.\n",
      " 1. 1. 1. 1. 1. 1. 1. 1. 1. 1. 0. 0. 0. 1. 0. 0. 1. 1. 0. 1. 1. 1. 0. 1.\n",
      " 1. 1. 1. 0. 0. 1. 1. 1. 0. 1. 0. 0. 1. 1. 1. 1. 0. 1. 0. 0. 1. 0. 1.]\n",
      "Testing accuracy is: 0.9440559440559441 with 135 / 143\n"
     ]
    }
   ],
   "source": [
    "clf_all_features = RandomForest(n_estimators=10, max_features=x_train.shape[1])\n",
    "clf_all_features.random(x_train.values, y_train.values)\n",
    "prediction = clf_all_features.predict(x_test.values)\n",
    "correct = 0\n",
    "for i in range(len(prediction)):\n",
    "    if prediction[i] == y_test.values[i][0]:\n",
    "        correct += 1\n",
    "print(\"Accuracy % is: {} with {} / {}\".format(correct / len(prediction), correct, len(prediction)))"
   ]
  },
  {
   "cell_type": "code",
   "execution_count": 23,
   "metadata": {},
   "outputs": [
    {
     "name": "stdout",
     "output_type": "stream",
     "text": [
      "[1. 0. 1. 1. 0. 1. 1. 1. 1. 0. 1. 1. 0. 1. 1. 1. 1. 1. 0. 0. 1. 0. 1. 1.\n",
      " 1. 1. 0. 1. 0. 1. 1. 0. 1. 0. 0. 1. 1. 1. 0. 0. 1. 1. 1. 0. 0. 1. 1. 1.\n",
      " 0. 0. 1. 0. 0. 0. 1. 0. 1. 0. 0. 1. 1. 1. 0. 1. 0. 0. 0. 1. 1. 1. 1. 1.\n",
      " 1. 0. 1. 1. 1. 0. 1. 0. 1. 1. 1. 1. 0. 1. 0. 1. 1. 0. 1. 0. 0. 1. 1. 0.\n",
      " 1. 1. 1. 1. 1. 1. 1. 1. 1. 0. 0. 0. 0. 1. 0. 0. 1. 1. 0. 1. 1. 1. 0. 1.\n",
      " 1. 1. 1. 0. 0. 1. 1. 1. 0. 1. 0. 0. 1. 1. 1. 1. 0. 1. 0. 0. 1. 0. 1.]\n",
      "Testing accuracy is: 0.958041958041958 with 137 / 143\n"
     ]
    }
   ],
   "source": [
    "clf_random_features = RandomForest(n_estimators=10, max_features=np.sqrt(x_train.shape[1]))\n",
    "clf_random_features.random(x_train.values, y_train.values)\n",
    "prediction = clf_random_features.predict(x_test.values)\n",
    "correct = 0\n",
    "for i in range(len(prediction)):\n",
    "    if prediction[i] == y_test.values[i][0]:\n",
    "        correct += 1\n",
    "print(\"Accuracy % is: {} with {} / {}\".format(correct / len(prediction), correct, len(prediction)))"
   ]
  },
  {
   "cell_type": "markdown",
   "metadata": {},
   "source": [
    "- Note: Use majority votes to get the final prediction, you may get slightly different results when re-building the random forest model"
   ]
  },
  {
   "cell_type": "markdown",
   "metadata": {},
   "source": [
    "## Supplementary\n",
    "If you have trouble to implement this homework, TA strongly recommend watching [this video](https://www.youtube.com/watch?v=LDRbO9a6XPU), which explains Decision Tree model clearly. But don't copy code from any resources, try to finish this homework by yourself! "
   ]
  },
  {
   "cell_type": "code",
   "execution_count": null,
   "metadata": {},
   "outputs": [],
   "source": []
  }
 ],
 "metadata": {
  "kernelspec": {
   "display_name": "Python 3",
   "language": "python",
   "name": "python3"
  },
  "language_info": {
   "codemirror_mode": {
    "name": "ipython",
    "version": 3
   },
   "file_extension": ".py",
   "mimetype": "text/x-python",
   "name": "python",
   "nbconvert_exporter": "python",
   "pygments_lexer": "ipython3",
   "version": "3.7.6"
  }
 },
 "nbformat": 4,
 "nbformat_minor": 4
}
