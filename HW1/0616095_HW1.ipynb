{
 "cells": [
  {
   "cell_type": "markdown",
   "source": [
    "## HW1: Linear Regression using Gradient Descent\n",
    "In hw1, you need to implement linear regression by using only numpy, then train your implemented model by the provided dataset and test the performance with testing data\n",
    "\n",
    "Please note that only **NUMPY** can be used to implement your model, you will get no points by simply calling sklearn.linear_model.LinearRegression"
   ],
   "metadata": {}
  },
  {
   "cell_type": "code",
   "execution_count": 13,
   "source": [
    "import numpy as np \r\n",
    "import pandas as pd\r\n",
    "import matplotlib.pyplot as plt"
   ],
   "outputs": [],
   "metadata": {}
  },
  {
   "cell_type": "code",
   "execution_count": 14,
   "source": [
    "def cal_cost(theta, X, y):\r\n",
    "    m = len(y)\r\n",
    "    predictions = X.dot(theta)\r\n",
    "    cost = (1/2) * np.sum(np.square(predictions-y))\r\n",
    "    return cost"
   ],
   "outputs": [],
   "metadata": {}
  },
  {
   "cell_type": "code",
   "execution_count": 15,
   "source": [
    "def stocashtic_gradient_descent(X, y, theta, learning_rate=1e-4, iterations=100):\r\n",
    "    m = len(y)\r\n",
    "    cost_history = np.zeros(iterations)\r\n",
    "    for it in range(iterations):\r\n",
    "        cost = 0.0\r\n",
    "        for i in range(m):\r\n",
    "            rand_ind = np.random.randint(0,m)\r\n",
    "            X_i = X[rand_ind, :].reshape(1, X.shape[1])\r\n",
    "            y_i = y[rand_ind].reshape(1, 1)\r\n",
    "            prediction = np.dot(X_i, theta)\r\n",
    "            theta = theta - learning_rate*(X_i.T.dot((prediction - y_i)))\r\n",
    "            cost += cal_cost(theta, X_i, y_i)\r\n",
    "        cost_history[it] = cost\r\n",
    "    return theta, cost_history   "
   ],
   "outputs": [],
   "metadata": {}
  },
  {
   "cell_type": "markdown",
   "source": [],
   "metadata": {}
  },
  {
   "cell_type": "code",
   "execution_count": 16,
   "source": [
    "def gradient_descent(X, y, theta, learning_rate=1e-4, iterations=100):\r\n",
    "    m = len(y)\r\n",
    "    cost_history = np.zeros(iterations)\r\n",
    "    theta_history = np.zeros((iterations,2))\r\n",
    "    for it in range(iterations):   \r\n",
    "        prediction = np.dot(X,theta)\r\n",
    "        theta = theta - learning_rate*((X.T).dot((prediction - y)))\r\n",
    "        cost_history[it]  = cal_cost(theta,X,y)\r\n",
    "    return theta, cost_history"
   ],
   "outputs": [],
   "metadata": {}
  },
  {
   "cell_type": "code",
   "execution_count": 17,
   "source": [
    "def minibatch_gradient_descent(X, y, theta, learning_rate=1e-4, iterations=100, batch_size =10):\r\n",
    "    m = len(y)\r\n",
    "    cost_history = np.zeros(iterations)\r\n",
    "    n_batches = int(m/batch_size)\r\n",
    "    for it in range(iterations):\r\n",
    "        cost = 0.0\r\n",
    "        indices = np.random.permutation(m)\r\n",
    "        X = X[indices]\r\n",
    "        y = y[indices]\r\n",
    "        for i in range(0,m,batch_size):\r\n",
    "            X_i = X[i:i+batch_size]\r\n",
    "            y_i = y[i:i+batch_size]\r\n",
    "            prediction = np.dot(X_i,theta)\r\n",
    "            theta = theta - learning_rate*(X_i.T.dot((prediction - y_i)))\r\n",
    "            cost += cal_cost(theta,X_i,y_i)\r\n",
    "        cost_history[it]  = cost\r\n",
    "        \r\n",
    "    return theta, cost_history"
   ],
   "outputs": [],
   "metadata": {}
  },
  {
   "cell_type": "code",
   "execution_count": 18,
   "source": [
    "train_df = pd.read_csv(\"train_data.csv\")\r\n",
    "x_train, y_train = train_df['x_train'], train_df['y_train']"
   ],
   "outputs": [],
   "metadata": {}
  },
  {
   "cell_type": "code",
   "execution_count": 19,
   "source": [
    "plt.plot(x_train, y_train, '.')"
   ],
   "outputs": [
    {
     "output_type": "execute_result",
     "data": {
      "text/plain": [
       "[<matplotlib.lines.Line2D at 0x2754a0da888>]"
      ]
     },
     "metadata": {},
     "execution_count": 19
    },
    {
     "output_type": "display_data",
     "data": {
      "image/png": "[encoded data removed]",
      "text/plain": [
       "<Figure size 432x288 with 1 Axes>"
      ]
     },
     "metadata": {
      "needs_background": "light"
     }
    }
   ],
   "metadata": {}
  },
  {
   "cell_type": "markdown",
   "source": [
    "## Train your model \n",
    "### Pseudo code:\n",
    "1. Random initialize the weights, intercepts of the linear model\n",
    "\n",
    "**for i in range(iteration)**\n",
    "\n",
    "    2. Feed foward the training data into the model, get the output prediction\n",
    "    3. Calculating training loss by Mean Square Error of predcition and ground truth data\n",
    "    4. Calculating the gradients\n",
    "    5. Updating the weights and intercepts by the gradients * learning rate \n",
    "    \n",
    "**End of training**"
   ],
   "metadata": {}
  },
  {
   "cell_type": "code",
   "execution_count": 20,
   "source": [
    "theta = np.random.rand(2, 1)\r\n",
    "l_r = 1e-4\r\n",
    "n_iter = 100\r\n",
    "X_b = np.c_[x_train, np.ones((len(x_train), 1))]\r\n",
    "y_train = np.expand_dims(y_train, axis=1)\r\n",
    "theta_best = np.linalg.inv(X_b.dot(X_b.T)).dot(X_b).dot(y_train)\r\n",
    "print(theta_best)\r\n",
    "'''print(X_b.shape)'''\r\n",
    "theta, cost_history = gradient_descent(X_b, y_train, theta, l_r, n_iter)"
   ],
   "outputs": [
    {
     "output_type": "stream",
     "name": "stdout",
     "text": [
      "[[0.78456508]\n",
      " [0.81797038]]\n"
     ]
    }
   ],
   "metadata": {}
  },
  {
   "cell_type": "markdown",
   "source": [
    "## Test the performance on the testing data\n",
    "Inference the test data (x_test) by your model and calculate the MSE of (y_test, y_pred)"
   ],
   "metadata": {}
  },
  {
   "cell_type": "code",
   "execution_count": 21,
   "source": [
    "fig,ax = plt.subplots(figsize=(12,8))\r\n",
    "ax.set_ylabel('J(Theta)')\r\n",
    "ax.set_xlabel('Iterations')\r\n",
    "_ = ax.plot(range(n_iter), cost_history, 'b.')"
   ],
   "outputs": [
    {
     "output_type": "display_data",
     "data": {
      "image/png": "[encoded data removed]",
      "text/plain": [
       "<Figure size 864x576 with 1 Axes>"
      ]
     },
     "metadata": {
      "needs_background": "light"
     }
    }
   ],
   "metadata": {}
  },
  {
   "cell_type": "code",
   "execution_count": 22,
   "source": [
    "test_data = pd.read_csv(\"test_data.csv\")\r\n",
    "x_test, y_test = test_data['x_test'], test_data['y_test']\r\n",
    "X_test_b = np.c_[np.ones((len(x_test), 1)), x_test]"
   ],
   "outputs": [],
   "metadata": {}
  },
  {
   "cell_type": "code",
   "execution_count": 23,
   "source": [
    "y_pred = np.dot(X_test_b, theta)\n",
    "MSE = 0.0\n",
    "y_test = np.expand_dims(y_test, axis=1)\n",
    "MSE = cal_cost(theta, X_test_b, y_test)"
   ],
   "outputs": [],
   "metadata": {}
  },
  {
   "cell_type": "code",
   "execution_count": 24,
   "source": [
    "print('weights:          {:0.3f},\\nintercepts:          {:0.3f}'.format(theta[0][0], theta[1][0]))\n",
    "print('Final cost/MSE:  {:0.3f}'.format(MSE))"
   ],
   "outputs": [
    {
     "output_type": "stream",
     "name": "stdout",
     "text": [
      "weights:          0.784,\n",
      "intercepts:          0.815\n",
      "Final cost/MSE:  3.449\n"
     ]
    }
   ],
   "metadata": {}
  }
 ],
 "metadata": {
  "kernelspec": {
   "display_name": "Python 3",
   "language": "python",
   "name": "python3"
  },
  "language_info": {
   "codemirror_mode": {
    "name": "ipython",
    "version": 3
   },
   "file_extension": ".py",
   "mimetype": "text/x-python",
   "name": "python",
   "nbconvert_exporter": "python",
   "pygments_lexer": "ipython3",
   "version": "3.7.6"
  }
 },
 "nbformat": 4,
 "nbformat_minor": 4
}